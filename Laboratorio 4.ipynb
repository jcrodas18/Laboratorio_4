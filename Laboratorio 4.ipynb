{
 "cells": [
  {
   "cell_type": "markdown",
   "metadata": {},
   "source": [
    "# Laboratorio 4\n",
    "#### Julio Cesar Rodas Guerra \n",
    "#### 15002024"
   ]
  },
  {
   "cell_type": "code",
   "execution_count": null,
   "metadata": {},
   "outputs": [],
   "source": [
    "import pandas as pd\n",
    "import numpy as np\n",
    "import matplotlib.pyplot as plt\n",
    "\n",
    "import scipy.stats as stats\n",
    "\n",
    "from sklearn.model_selection import train_test_split\n",
    "from sklearn.preprocessing import MinMaxScaler\n",
    "\n",
    "import joblib"
   ]
  },
  {
   "cell_type": "markdown",
   "metadata": {},
   "source": [
    "### 1. Cargamos Dataset"
   ]
  },
  {
   "cell_type": "code",
   "execution_count": 2,
   "metadata": {},
   "outputs": [
    {
     "name": "stdout",
     "output_type": "stream",
     "text": [
      "(891, 12)\n",
      "\n"
     ]
    },
    {
     "data": {
      "text/html": [
       "<div>\n",
       "<style scoped>\n",
       "    .dataframe tbody tr th:only-of-type {\n",
       "        vertical-align: middle;\n",
       "    }\n",
       "\n",
       "    .dataframe tbody tr th {\n",
       "        vertical-align: top;\n",
       "    }\n",
       "\n",
       "    .dataframe thead th {\n",
       "        text-align: right;\n",
       "    }\n",
       "</style>\n",
       "<table border=\"1\" class=\"dataframe\">\n",
       "  <thead>\n",
       "    <tr style=\"text-align: right;\">\n",
       "      <th></th>\n",
       "      <th>PassengerId</th>\n",
       "      <th>Survived</th>\n",
       "      <th>Pclass</th>\n",
       "      <th>Name</th>\n",
       "      <th>Sex</th>\n",
       "      <th>Age</th>\n",
       "      <th>SibSp</th>\n",
       "      <th>Parch</th>\n",
       "      <th>Ticket</th>\n",
       "      <th>Fare</th>\n",
       "      <th>Cabin</th>\n",
       "      <th>Embarked</th>\n",
       "    </tr>\n",
       "  </thead>\n",
       "  <tbody>\n",
       "    <tr>\n",
       "      <th>0</th>\n",
       "      <td>1</td>\n",
       "      <td>0</td>\n",
       "      <td>3</td>\n",
       "      <td>Braund, Mr. Owen Harris</td>\n",
       "      <td>male</td>\n",
       "      <td>22.0</td>\n",
       "      <td>1</td>\n",
       "      <td>0</td>\n",
       "      <td>A/5 21171</td>\n",
       "      <td>7.2500</td>\n",
       "      <td>NaN</td>\n",
       "      <td>S</td>\n",
       "    </tr>\n",
       "    <tr>\n",
       "      <th>1</th>\n",
       "      <td>2</td>\n",
       "      <td>1</td>\n",
       "      <td>1</td>\n",
       "      <td>Cumings, Mrs. John Bradley (Florence Briggs Th...</td>\n",
       "      <td>female</td>\n",
       "      <td>38.0</td>\n",
       "      <td>1</td>\n",
       "      <td>0</td>\n",
       "      <td>PC 17599</td>\n",
       "      <td>71.2833</td>\n",
       "      <td>C85</td>\n",
       "      <td>C</td>\n",
       "    </tr>\n",
       "    <tr>\n",
       "      <th>2</th>\n",
       "      <td>3</td>\n",
       "      <td>1</td>\n",
       "      <td>3</td>\n",
       "      <td>Heikkinen, Miss. Laina</td>\n",
       "      <td>female</td>\n",
       "      <td>26.0</td>\n",
       "      <td>0</td>\n",
       "      <td>0</td>\n",
       "      <td>STON/O2. 3101282</td>\n",
       "      <td>7.9250</td>\n",
       "      <td>NaN</td>\n",
       "      <td>S</td>\n",
       "    </tr>\n",
       "    <tr>\n",
       "      <th>3</th>\n",
       "      <td>4</td>\n",
       "      <td>1</td>\n",
       "      <td>1</td>\n",
       "      <td>Futrelle, Mrs. Jacques Heath (Lily May Peel)</td>\n",
       "      <td>female</td>\n",
       "      <td>35.0</td>\n",
       "      <td>1</td>\n",
       "      <td>0</td>\n",
       "      <td>113803</td>\n",
       "      <td>53.1000</td>\n",
       "      <td>C123</td>\n",
       "      <td>S</td>\n",
       "    </tr>\n",
       "    <tr>\n",
       "      <th>4</th>\n",
       "      <td>5</td>\n",
       "      <td>0</td>\n",
       "      <td>3</td>\n",
       "      <td>Allen, Mr. William Henry</td>\n",
       "      <td>male</td>\n",
       "      <td>35.0</td>\n",
       "      <td>0</td>\n",
       "      <td>0</td>\n",
       "      <td>373450</td>\n",
       "      <td>8.0500</td>\n",
       "      <td>NaN</td>\n",
       "      <td>S</td>\n",
       "    </tr>\n",
       "  </tbody>\n",
       "</table>\n",
       "</div>"
      ],
      "text/plain": [
       "   PassengerId  Survived  Pclass  \\\n",
       "0            1         0       3   \n",
       "1            2         1       1   \n",
       "2            3         1       3   \n",
       "3            4         1       1   \n",
       "4            5         0       3   \n",
       "\n",
       "                                                Name     Sex   Age  SibSp  \\\n",
       "0                            Braund, Mr. Owen Harris    male  22.0      1   \n",
       "1  Cumings, Mrs. John Bradley (Florence Briggs Th...  female  38.0      1   \n",
       "2                             Heikkinen, Miss. Laina  female  26.0      0   \n",
       "3       Futrelle, Mrs. Jacques Heath (Lily May Peel)  female  35.0      1   \n",
       "4                           Allen, Mr. William Henry    male  35.0      0   \n",
       "\n",
       "   Parch            Ticket     Fare Cabin Embarked  \n",
       "0      0         A/5 21171   7.2500   NaN        S  \n",
       "1      0          PC 17599  71.2833   C85        C  \n",
       "2      0  STON/O2. 3101282   7.9250   NaN        S  \n",
       "3      0            113803  53.1000  C123        S  \n",
       "4      0            373450   8.0500   NaN        S  "
      ]
     },
     "execution_count": 2,
     "metadata": {},
     "output_type": "execute_result"
    }
   ],
   "source": [
    "data = pd.read_csv('train.csv')\n",
    "\n",
    "print(str(data.shape) + '\\n')\n",
    "\n",
    "data.head()"
   ]
  },
  {
   "cell_type": "markdown",
   "metadata": {},
   "source": [
    "### 2. Análisis de Datos para toma de decisiones en FE Pipeline"
   ]
  },
  {
   "cell_type": "markdown",
   "metadata": {},
   "source": [
    "##### 2.1 Análisis del Target\n"
   ]
  },
  {
   "cell_type": "code",
   "execution_count": 3,
   "metadata": {},
   "outputs": [
    {
     "data": {
      "image/png": "[encoded data removed]",
      "text/plain": [
       "<Figure size 432x288 with 1 Axes>"
      ]
     },
     "metadata": {
      "needs_background": "light"
     },
     "output_type": "display_data"
    }
   ],
   "source": [
    "data['Survived'].hist(bins=50, density=False)\n",
    "plt.xlabel(\"Survived\")\n",
    "plt.ylabel(\"Cantidad de Personas\")\n",
    "plt.show()"
   ]
  },
  {
   "cell_type": "code",
   "execution_count": 4,
   "metadata": {},
   "outputs": [
    {
     "data": {
      "image/png": "[encoded data removed]",
      "text/plain": [
       "<Figure size 432x288 with 1 Axes>"
      ]
     },
     "metadata": {
      "needs_background": "light"
     },
     "output_type": "display_data"
    }
   ],
   "source": [
    "#transformación de target con power.\n",
    "np.power(data['Survived'],3).hist(bins=50, density=False)\n",
    "plt.xlabel(\"Log de Survived\")\n",
    "plt.ylabel(\"Cantidad de Personas\")\n",
    "plt.show()"
   ]
  },
  {
   "cell_type": "markdown",
   "metadata": {},
   "source": [
    "#### 2.2 Verificamos tipos de variables en X"
   ]
  },
  {
   "cell_type": "code",
   "execution_count": 5,
   "metadata": {},
   "outputs": [
    {
     "data": {
      "text/plain": [
       "PassengerId      int64\n",
       "Survived         int64\n",
       "Pclass           int64\n",
       "Name            object\n",
       "Sex             object\n",
       "Age            float64\n",
       "SibSp            int64\n",
       "Parch            int64\n",
       "Ticket          object\n",
       "Fare           float64\n",
       "Cabin           object\n",
       "Embarked        object\n",
       "dtype: object"
      ]
     },
     "execution_count": 5,
     "metadata": {},
     "output_type": "execute_result"
    }
   ],
   "source": [
    "data.dtypes"
   ]
  },
  {
   "cell_type": "code",
   "execution_count": 6,
   "metadata": {},
   "outputs": [
    {
     "data": {
      "text/plain": [
       "['Name', 'Sex', 'Ticket', 'Cabin', 'Embarked']"
      ]
     },
     "execution_count": 6,
     "metadata": {},
     "output_type": "execute_result"
    }
   ],
   "source": [
    "cat_vars = [var for var in data.columns if data[var].dtype == 'O']\n",
    "cat_vars"
   ]
  },
  {
   "cell_type": "code",
   "execution_count": 7,
   "metadata": {},
   "outputs": [
    {
     "data": {
      "text/plain": [
       "5"
      ]
     },
     "execution_count": 7,
     "metadata": {},
     "output_type": "execute_result"
    }
   ],
   "source": [
    "#cantidad de variables categóricas\n",
    "len(cat_vars)"
   ]
  },
  {
   "cell_type": "code",
   "execution_count": 8,
   "metadata": {},
   "outputs": [],
   "source": [
    "#Forzamos a todas las variables como categóticas\n",
    "data[cat_vars] = data[cat_vars].astype('O')"
   ]
  },
  {
   "cell_type": "code",
   "execution_count": 9,
   "metadata": {},
   "outputs": [
    {
     "data": {
      "text/plain": [
       "['PassengerId', 'Pclass', 'Age', 'SibSp', 'Parch', 'Fare']"
      ]
     },
     "execution_count": 9,
     "metadata": {},
     "output_type": "execute_result"
    }
   ],
   "source": [
    "#variables numéricas\n",
    "num_vars = [var for var in data.columns if(var not in cat_vars and var != 'Survived')]\n",
    "num_vars"
   ]
  },
  {
   "cell_type": "code",
   "execution_count": 10,
   "metadata": {},
   "outputs": [
    {
     "data": {
      "text/plain": [
       "6"
      ]
     },
     "execution_count": 10,
     "metadata": {},
     "output_type": "execute_result"
    }
   ],
   "source": [
    "len(num_vars)"
   ]
  },
  {
   "cell_type": "markdown",
   "metadata": {},
   "source": [
    "#### 2.3 Análisis de Valores Faltantes"
   ]
  },
  {
   "cell_type": "code",
   "execution_count": 11,
   "metadata": {},
   "outputs": [
    {
     "data": {
      "text/plain": [
       "3"
      ]
     },
     "execution_count": 11,
     "metadata": {},
     "output_type": "execute_result"
    }
   ],
   "source": [
    "var_with_na = [var for var in data.columns if(data[var].isnull().sum() > 0)]\n",
    "len(var_with_na)"
   ]
  },
  {
   "cell_type": "code",
   "execution_count": 12,
   "metadata": {},
   "outputs": [
    {
     "data": {
      "text/plain": [
       "Cabin       0.771044\n",
       "Age         0.198653\n",
       "Embarked    0.002245\n",
       "dtype: float64"
      ]
     },
     "execution_count": 12,
     "metadata": {},
     "output_type": "execute_result"
    }
   ],
   "source": [
    "#proporcion de NAs en cada variable\n",
    "data[var_with_na].isnull().mean().sort_values(ascending=False)"
   ]
  },
  {
   "cell_type": "code",
   "execution_count": 13,
   "metadata": {},
   "outputs": [
    {
     "data": {
      "text/plain": [
       "<matplotlib.lines.Line2D at 0x28d837edc10>"
      ]
     },
     "execution_count": 13,
     "metadata": {},
     "output_type": "execute_result"
    },
    {
     "data": {
      "image/png": "[encoded data removed]",
      "text/plain": [
       "<Figure size 432x288 with 1 Axes>"
      ]
     },
     "metadata": {
      "needs_background": "light"
     },
     "output_type": "display_data"
    }
   ],
   "source": [
    "#graficamos porcentajes de NAs.\n",
    "data[var_with_na].isnull().mean().sort_values(ascending=False).plot.bar()\n",
    "plt.ylabel(\"Porcentaje de NAs\")\n",
    "plt.axhline(y=0.9, color=\"r\")\n",
    "plt.axhline(y=0.8, color=\"g\")"
   ]
  },
  {
   "cell_type": "code",
   "execution_count": 14,
   "metadata": {},
   "outputs": [
    {
     "data": {
      "text/plain": [
       "['Cabin', 'Embarked']"
      ]
     },
     "execution_count": 14,
     "metadata": {},
     "output_type": "execute_result"
    }
   ],
   "source": [
    "#variables categóricas con NAs.\n",
    "cat_na = [var for var in cat_vars if var in var_with_na]\n",
    "cat_na"
   ]
  },
  {
   "cell_type": "code",
   "execution_count": 15,
   "metadata": {},
   "outputs": [
    {
     "data": {
      "text/plain": [
       "['Age']"
      ]
     },
     "execution_count": 15,
     "metadata": {},
     "output_type": "execute_result"
    }
   ],
   "source": [
    "#variables numéricas con NAs.\n",
    "num_na = [var for var in num_vars if var in var_with_na]\n",
    "num_na"
   ]
  },
  {
   "cell_type": "code",
   "execution_count": 16,
   "metadata": {},
   "outputs": [
    {
     "name": "stdout",
     "output_type": "stream",
     "text": [
      "Cantidad de variables numéricas con NAs. 1\n",
      "Cantidad de variables categóticas con NAs. 2\n"
     ]
    }
   ],
   "source": [
    "print(\"Cantidad de variables numéricas con NAs. {}\".format(len(num_na)))\n",
    "print(\"Cantidad de variables categóticas con NAs. {}\".format(len(cat_na)))"
   ]
  },
  {
   "cell_type": "markdown",
   "metadata": {},
   "source": [
    "#### 2.3.1 Verificación del impacto del NA contra el Target (Survived)"
   ]
  },
  {
   "cell_type": "code",
   "execution_count": 17,
   "metadata": {},
   "outputs": [],
   "source": [
    "def na_impact_over_target(df, Xvar, Yvar):\n",
    "    df = data.copy()\n",
    "    df[Xvar] = np.where(df[Xvar].isnull(), 1, 0)\n",
    "    temp = df.groupby(Xvar)[Yvar].agg(['mean', 'std'])\n",
    "    temp.plot(kind=\"barh\", y=\"mean\", xerr=\"std\", legend=False, title=Yvar)\n",
    "    plt.show()"
   ]
  },
  {
   "cell_type": "code",
   "execution_count": 18,
   "metadata": {},
   "outputs": [
    {
     "data": {
      "image/png": "[encoded data removed]",
      "text/plain": [
       "<Figure size 432x288 with 1 Axes>"
      ]
     },
     "metadata": {
      "needs_background": "light"
     },
     "output_type": "display_data"
    },
    {
     "data": {
      "image/png": "[encoded data removed]",
      "text/plain": [
       "<Figure size 432x288 with 1 Axes>"
      ]
     },
     "metadata": {
      "needs_background": "light"
     },
     "output_type": "display_data"
    },
    {
     "data": {
      "image/png": "[encoded data removed]",
      "text/plain": [
       "<Figure size 432x288 with 1 Axes>"
      ]
     },
     "metadata": {
      "needs_background": "light"
     },
     "output_type": "display_data"
    }
   ],
   "source": [
    "for var in var_with_na:\n",
    "    na_impact_over_target(data, var, 'Survived')"
   ]
  },
  {
   "cell_type": "markdown",
   "metadata": {},
   "source": [
    "2.4 No sé realiza el Análisis de Variables Temporales porque el dataset no contiene fechas."
   ]
  },
  {
   "cell_type": "markdown",
   "metadata": {},
   "source": [
    "## 2.5 Variables Discretas"
   ]
  },
  {
   "cell_type": "code",
   "execution_count": 19,
   "metadata": {},
   "outputs": [
    {
     "data": {
      "text/plain": [
       "['Pclass', 'SibSp', 'Parch']"
      ]
     },
     "execution_count": 19,
     "metadata": {},
     "output_type": "execute_result"
    }
   ],
   "source": [
    "discrete_vars = [var for var in num_vars if(len(data[var].unique()) < 20)]\n",
    "discrete_vars"
   ]
  },
  {
   "cell_type": "code",
   "execution_count": 20,
   "metadata": {},
   "outputs": [
    {
     "name": "stdout",
     "output_type": "stream",
     "text": [
      "Cantidad de Variables Discretas:  3\n"
     ]
    }
   ],
   "source": [
    "print(\"Cantidad de Variables Discretas: \", len(discrete_vars))"
   ]
  },
  {
   "cell_type": "code",
   "execution_count": 21,
   "metadata": {},
   "outputs": [
    {
     "data": {
      "text/html": [
       "<div>\n",
       "<style scoped>\n",
       "    .dataframe tbody tr th:only-of-type {\n",
       "        vertical-align: middle;\n",
       "    }\n",
       "\n",
       "    .dataframe tbody tr th {\n",
       "        vertical-align: top;\n",
       "    }\n",
       "\n",
       "    .dataframe thead th {\n",
       "        text-align: right;\n",
       "    }\n",
       "</style>\n",
       "<table border=\"1\" class=\"dataframe\">\n",
       "  <thead>\n",
       "    <tr style=\"text-align: right;\">\n",
       "      <th></th>\n",
       "      <th>Pclass</th>\n",
       "      <th>SibSp</th>\n",
       "      <th>Parch</th>\n",
       "    </tr>\n",
       "  </thead>\n",
       "  <tbody>\n",
       "    <tr>\n",
       "      <th>0</th>\n",
       "      <td>3</td>\n",
       "      <td>1</td>\n",
       "      <td>0</td>\n",
       "    </tr>\n",
       "    <tr>\n",
       "      <th>1</th>\n",
       "      <td>1</td>\n",
       "      <td>1</td>\n",
       "      <td>0</td>\n",
       "    </tr>\n",
       "    <tr>\n",
       "      <th>2</th>\n",
       "      <td>3</td>\n",
       "      <td>0</td>\n",
       "      <td>0</td>\n",
       "    </tr>\n",
       "    <tr>\n",
       "      <th>3</th>\n",
       "      <td>1</td>\n",
       "      <td>1</td>\n",
       "      <td>0</td>\n",
       "    </tr>\n",
       "    <tr>\n",
       "      <th>4</th>\n",
       "      <td>3</td>\n",
       "      <td>0</td>\n",
       "      <td>0</td>\n",
       "    </tr>\n",
       "  </tbody>\n",
       "</table>\n",
       "</div>"
      ],
      "text/plain": [
       "   Pclass  SibSp  Parch\n",
       "0       3      1      0\n",
       "1       1      1      0\n",
       "2       3      0      0\n",
       "3       1      1      0\n",
       "4       3      0      0"
      ]
     },
     "execution_count": 21,
     "metadata": {},
     "output_type": "execute_result"
    }
   ],
   "source": [
    "data[discrete_vars].head()"
   ]
  },
  {
   "cell_type": "code",
   "execution_count": 22,
   "metadata": {},
   "outputs": [],
   "source": [
    "import seaborn as sns"
   ]
  },
  {
   "cell_type": "code",
   "execution_count": 23,
   "metadata": {},
   "outputs": [
    {
     "data": {
      "image/png": "[encoded data removed]",
      "text/plain": [
       "<Figure size 288x288 with 1 Axes>"
      ]
     },
     "metadata": {
      "needs_background": "light"
     },
     "output_type": "display_data"
    },
    {
     "data": {
      "image/png": "[encoded data removed]",
      "text/plain": [
       "<Figure size 288x288 with 1 Axes>"
      ]
     },
     "metadata": {
      "needs_background": "light"
     },
     "output_type": "display_data"
    },
    {
     "data": {
      "image/png": "[encoded data removed]",
      "text/plain": [
       "<Figure size 288x288 with 1 Axes>"
      ]
     },
     "metadata": {
      "needs_background": "light"
     },
     "output_type": "display_data"
    }
   ],
   "source": [
    "for var in discrete_vars:\n",
    "    sns.catplot(x=var, y = 'Survived', data=data, kind=\"box\", height=4)\n",
    "    sns.stripplot(x=var, y='Survived', data=data, jitter=0.1, alpha=0.3,color='k')\n",
    "    plt.show()"
   ]
  },
  {
   "cell_type": "markdown",
   "metadata": {},
   "source": [
    "## 2.6 Variables Continuas"
   ]
  },
  {
   "cell_type": "code",
   "execution_count": 24,
   "metadata": {},
   "outputs": [],
   "source": [
    "cont_vars = [var for var in num_vars if var not in discrete_vars]"
   ]
  },
  {
   "cell_type": "code",
   "execution_count": 25,
   "metadata": {},
   "outputs": [
    {
     "name": "stdout",
     "output_type": "stream",
     "text": [
      "Variables Numericas Continuas:  3\n"
     ]
    }
   ],
   "source": [
    "print(\"Variables Numericas Continuas: \", len(cont_vars))"
   ]
  },
  {
   "cell_type": "code",
   "execution_count": 26,
   "metadata": {},
   "outputs": [
    {
     "data": {
      "text/html": [
       "<div>\n",
       "<style scoped>\n",
       "    .dataframe tbody tr th:only-of-type {\n",
       "        vertical-align: middle;\n",
       "    }\n",
       "\n",
       "    .dataframe tbody tr th {\n",
       "        vertical-align: top;\n",
       "    }\n",
       "\n",
       "    .dataframe thead th {\n",
       "        text-align: right;\n",
       "    }\n",
       "</style>\n",
       "<table border=\"1\" class=\"dataframe\">\n",
       "  <thead>\n",
       "    <tr style=\"text-align: right;\">\n",
       "      <th></th>\n",
       "      <th>PassengerId</th>\n",
       "      <th>Age</th>\n",
       "      <th>Fare</th>\n",
       "    </tr>\n",
       "  </thead>\n",
       "  <tbody>\n",
       "    <tr>\n",
       "      <th>0</th>\n",
       "      <td>1</td>\n",
       "      <td>22.0</td>\n",
       "      <td>7.2500</td>\n",
       "    </tr>\n",
       "    <tr>\n",
       "      <th>1</th>\n",
       "      <td>2</td>\n",
       "      <td>38.0</td>\n",
       "      <td>71.2833</td>\n",
       "    </tr>\n",
       "    <tr>\n",
       "      <th>2</th>\n",
       "      <td>3</td>\n",
       "      <td>26.0</td>\n",
       "      <td>7.9250</td>\n",
       "    </tr>\n",
       "    <tr>\n",
       "      <th>3</th>\n",
       "      <td>4</td>\n",
       "      <td>35.0</td>\n",
       "      <td>53.1000</td>\n",
       "    </tr>\n",
       "    <tr>\n",
       "      <th>4</th>\n",
       "      <td>5</td>\n",
       "      <td>35.0</td>\n",
       "      <td>8.0500</td>\n",
       "    </tr>\n",
       "  </tbody>\n",
       "</table>\n",
       "</div>"
      ],
      "text/plain": [
       "   PassengerId   Age     Fare\n",
       "0            1  22.0   7.2500\n",
       "1            2  38.0  71.2833\n",
       "2            3  26.0   7.9250\n",
       "3            4  35.0  53.1000\n",
       "4            5  35.0   8.0500"
      ]
     },
     "execution_count": 26,
     "metadata": {},
     "output_type": "execute_result"
    }
   ],
   "source": [
    "data[cont_vars].head()"
   ]
  },
  {
   "cell_type": "code",
   "execution_count": 27,
   "metadata": {},
   "outputs": [
    {
     "data": {
      "image/png": "[encoded data removed]",
      "text/plain": [
       "<Figure size 1080x1080 with 4 Axes>"
      ]
     },
     "metadata": {
      "needs_background": "light"
     },
     "output_type": "display_data"
    }
   ],
   "source": [
    "data[cont_vars].hist(bins=30, figsize=(15, 15))\n",
    "plt.show()"
   ]
  },
  {
   "cell_type": "code",
   "execution_count": 28,
   "metadata": {},
   "outputs": [],
   "source": [
    "sesgadas = ['Fare']"
   ]
  },
  {
   "cell_type": "code",
   "execution_count": 29,
   "metadata": {},
   "outputs": [],
   "source": [
    "cont_vars = [var for var in cont_vars if var not in sesgadas]"
   ]
  },
  {
   "cell_type": "code",
   "execution_count": 30,
   "metadata": {},
   "outputs": [
    {
     "data": {
      "text/plain": [
       "['PassengerId', 'Age']"
      ]
     },
     "execution_count": 30,
     "metadata": {},
     "output_type": "execute_result"
    }
   ],
   "source": [
    "cont_vars"
   ]
  },
  {
   "cell_type": "markdown",
   "metadata": {},
   "source": [
    "#### Transformación de Yeo-Johnson"
   ]
  },
  {
   "cell_type": "code",
   "execution_count": 31,
   "metadata": {},
   "outputs": [],
   "source": [
    "import scipy.stats as stats"
   ]
  },
  {
   "cell_type": "code",
   "execution_count": 32,
   "metadata": {},
   "outputs": [],
   "source": [
    "temp_yj = data.copy()"
   ]
  },
  {
   "cell_type": "code",
   "execution_count": 33,
   "metadata": {},
   "outputs": [],
   "source": [
    "for var in cont_vars:\n",
    "    temp_yj[var], param = stats.yeojohnson(data[var])"
   ]
  },
  {
   "cell_type": "code",
   "execution_count": 34,
   "metadata": {},
   "outputs": [
    {
     "data": {
      "image/png": "[encoded data removed]",
      "text/plain": [
       "<Figure size 1080x1080 with 2 Axes>"
      ]
     },
     "metadata": {
      "needs_background": "light"
     },
     "output_type": "display_data"
    }
   ],
   "source": [
    "temp_yj[cont_vars].hist(bins=30, figsize=(15, 15))\n",
    "plt.show()"
   ]
  },
  {
   "cell_type": "code",
   "execution_count": 35,
   "metadata": {},
   "outputs": [
    {
     "data": {
      "text/plain": [
       "2"
      ]
     },
     "execution_count": 35,
     "metadata": {},
     "output_type": "execute_result"
    }
   ],
   "source": [
    "len(cont_vars)"
   ]
  },
  {
   "cell_type": "code",
   "execution_count": 36,
   "metadata": {},
   "outputs": [],
   "source": [
    "cont_specials = ['PassengerId', 'Age']"
   ]
  },
  {
   "cell_type": "code",
   "execution_count": 37,
   "metadata": {},
   "outputs": [],
   "source": [
    "temp = data.copy()\n",
    "\n",
    "for var in cont_vars:\n",
    "    temp[var] = np.log(data[var] + 1)"
   ]
  },
  {
   "cell_type": "code",
   "execution_count": 38,
   "metadata": {},
   "outputs": [
    {
     "data": {
      "image/png": "[encoded data removed]",
      "text/plain": [
       "<Figure size 1080x1080 with 2 Axes>"
      ]
     },
     "metadata": {
      "needs_background": "light"
     },
     "output_type": "display_data"
    }
   ],
   "source": [
    "temp[cont_vars].hist(bins=30, figsize=(15,15))\n",
    "plt.show()"
   ]
  },
  {
   "cell_type": "code",
   "execution_count": 39,
   "metadata": {},
   "outputs": [
    {
     "name": "stderr",
     "output_type": "stream",
     "text": [
      "C:\\Users\\kimbe\\anaconda3\\lib\\site-packages\\pandas\\core\\series.py:726: RuntimeWarning: divide by zero encountered in log\n",
      "  result = getattr(ufunc, method)(*inputs, **kwargs)\n"
     ]
    },
    {
     "data": {
      "image/png": "[encoded data removed]",
      "text/plain": [
       "<Figure size 1296x288 with 3 Axes>"
      ]
     },
     "metadata": {
      "needs_background": "light"
     },
     "output_type": "display_data"
    },
    {
     "data": {
      "image/png": "[encoded data removed]",
      "text/plain": [
       "<Figure size 1296x288 with 3 Axes>"
      ]
     },
     "metadata": {
      "needs_background": "light"
     },
     "output_type": "display_data"
    }
   ],
   "source": [
    "for var in cont_vars:\n",
    "    plt.figure(figsize=(18, 4))\n",
    "    \n",
    "    plt.subplot(1, 3, 1)\n",
    "    plt.scatter(data[var], np.log(data['Survived']))\n",
    "    plt.ylabel(\"Survived\")\n",
    "    plt.xlabel(\"Original \" + var)\n",
    "    \n",
    "    plt.subplot(1, 3, 2)\n",
    "    plt.scatter(temp[var], np.log(data['Survived']))\n",
    "    plt.ylabel(\"Survived\")\n",
    "    plt.xlabel(\"Transformed \" + var)\n",
    "    \n",
    "    plt.subplot(1, 3, 3)\n",
    "    plt.scatter(temp_yj[var], np.log(data['Survived']))\n",
    "    plt.ylabel(\"Survived\")\n",
    "    plt.xlabel(\"Yeo-Johnson \" + var)\n",
    "\n",
    "    plt.show()"
   ]
  },
  {
   "cell_type": "markdown",
   "metadata": {},
   "source": [
    "### 2.6.1 Variables con Sesgo"
   ]
  },
  {
   "cell_type": "code",
   "execution_count": 40,
   "metadata": {},
   "outputs": [
    {
     "data": {
      "image/png": "[encoded data removed]",
      "text/plain": [
       "<Figure size 432x288 with 1 Axes>"
      ]
     },
     "metadata": {
      "needs_background": "light"
     },
     "output_type": "display_data"
    }
   ],
   "source": [
    "for var in sesgadas:\n",
    "    temp = data.copy()\n",
    "    \n",
    "    temp[var] = np.where(data[var] == 0, 0, 1)\n",
    "    \n",
    "    temp = temp.groupby(var)['Survived'].agg(['mean', 'std'])\n",
    "    \n",
    "    temp.plot(kind='barh', y=\"mean\", legend=False, xerr=\"std\", title = \"Survived\", color=\"green\")\n",
    "    plt.show()"
   ]
  },
  {
   "cell_type": "markdown",
   "metadata": {},
   "source": [
    "## 2.7 Variables Categóricas"
   ]
  },
  {
   "cell_type": "code",
   "execution_count": 41,
   "metadata": {},
   "outputs": [
    {
     "data": {
      "text/plain": [
       "5"
      ]
     },
     "execution_count": 41,
     "metadata": {},
     "output_type": "execute_result"
    }
   ],
   "source": [
    "len(cat_vars)"
   ]
  },
  {
   "cell_type": "code",
   "execution_count": 42,
   "metadata": {},
   "outputs": [
    {
     "data": {
      "text/html": [
       "<div>\n",
       "<style scoped>\n",
       "    .dataframe tbody tr th:only-of-type {\n",
       "        vertical-align: middle;\n",
       "    }\n",
       "\n",
       "    .dataframe tbody tr th {\n",
       "        vertical-align: top;\n",
       "    }\n",
       "\n",
       "    .dataframe thead th {\n",
       "        text-align: right;\n",
       "    }\n",
       "</style>\n",
       "<table border=\"1\" class=\"dataframe\">\n",
       "  <thead>\n",
       "    <tr style=\"text-align: right;\">\n",
       "      <th></th>\n",
       "      <th>Name</th>\n",
       "      <th>Sex</th>\n",
       "      <th>Ticket</th>\n",
       "      <th>Cabin</th>\n",
       "      <th>Embarked</th>\n",
       "    </tr>\n",
       "  </thead>\n",
       "  <tbody>\n",
       "    <tr>\n",
       "      <th>0</th>\n",
       "      <td>Braund, Mr. Owen Harris</td>\n",
       "      <td>male</td>\n",
       "      <td>A/5 21171</td>\n",
       "      <td>NaN</td>\n",
       "      <td>S</td>\n",
       "    </tr>\n",
       "    <tr>\n",
       "      <th>1</th>\n",
       "      <td>Cumings, Mrs. John Bradley (Florence Briggs Th...</td>\n",
       "      <td>female</td>\n",
       "      <td>PC 17599</td>\n",
       "      <td>C85</td>\n",
       "      <td>C</td>\n",
       "    </tr>\n",
       "    <tr>\n",
       "      <th>2</th>\n",
       "      <td>Heikkinen, Miss. Laina</td>\n",
       "      <td>female</td>\n",
       "      <td>STON/O2. 3101282</td>\n",
       "      <td>NaN</td>\n",
       "      <td>S</td>\n",
       "    </tr>\n",
       "    <tr>\n",
       "      <th>3</th>\n",
       "      <td>Futrelle, Mrs. Jacques Heath (Lily May Peel)</td>\n",
       "      <td>female</td>\n",
       "      <td>113803</td>\n",
       "      <td>C123</td>\n",
       "      <td>S</td>\n",
       "    </tr>\n",
       "    <tr>\n",
       "      <th>4</th>\n",
       "      <td>Allen, Mr. William Henry</td>\n",
       "      <td>male</td>\n",
       "      <td>373450</td>\n",
       "      <td>NaN</td>\n",
       "      <td>S</td>\n",
       "    </tr>\n",
       "  </tbody>\n",
       "</table>\n",
       "</div>"
      ],
      "text/plain": [
       "                                                Name     Sex  \\\n",
       "0                            Braund, Mr. Owen Harris    male   \n",
       "1  Cumings, Mrs. John Bradley (Florence Briggs Th...  female   \n",
       "2                             Heikkinen, Miss. Laina  female   \n",
       "3       Futrelle, Mrs. Jacques Heath (Lily May Peel)  female   \n",
       "4                           Allen, Mr. William Henry    male   \n",
       "\n",
       "             Ticket Cabin Embarked  \n",
       "0         A/5 21171   NaN        S  \n",
       "1          PC 17599   C85        C  \n",
       "2  STON/O2. 3101282   NaN        S  \n",
       "3            113803  C123        S  \n",
       "4            373450   NaN        S  "
      ]
     },
     "execution_count": 42,
     "metadata": {},
     "output_type": "execute_result"
    }
   ],
   "source": [
    "data[cat_vars].head()"
   ]
  },
  {
   "cell_type": "code",
   "execution_count": 43,
   "metadata": {},
   "outputs": [
    {
     "data": {
      "text/plain": [
       "<AxesSubplot:>"
      ]
     },
     "execution_count": 43,
     "metadata": {},
     "output_type": "execute_result"
    },
    {
     "data": {
      "image/png": "[encoded data removed]",
      "text/plain": [
       "<Figure size 864x360 with 1 Axes>"
      ]
     },
     "metadata": {
      "needs_background": "light"
     },
     "output_type": "display_data"
    }
   ],
   "source": [
    "data[cat_vars].nunique().sort_values(ascending=False).plot.bar(figsize=(12,5))"
   ]
  },
  {
   "cell_type": "code",
   "execution_count": 44,
   "metadata": {},
   "outputs": [
    {
     "data": {
      "text/plain": [
       "array(['Abbing, Mr. Anthony', 'Abbott, Mr. Rossmore Edward',\n",
       "       'Abbott, Mrs. Stanton (Rosa Hunt)', 'Abelson, Mr. Samuel',\n",
       "       'Abelson, Mrs. Samuel (Hannah Wizosky)',\n",
       "       'Adahl, Mr. Mauritz Nils Martin', 'Adams, Mr. John',\n",
       "       'Ahlin, Mrs. Johan (Johanna Persdotter Larsson)',\n",
       "       'Aks, Mrs. Sam (Leah Rosen)', 'Albimona, Mr. Nassef Cassem',\n",
       "       'Alexander, Mr. William', 'Alhomaki, Mr. Ilmari Rudolf',\n",
       "       'Ali, Mr. Ahmed', 'Ali, Mr. William',\n",
       "       'Allen, Miss. Elisabeth Walton', 'Allen, Mr. William Henry',\n",
       "       'Allison, Master. Hudson Trevor', 'Allison, Miss. Helen Loraine',\n",
       "       'Allison, Mrs. Hudson J C (Bessie Waldo Daniels)',\n",
       "       'Allum, Mr. Owen George',\n",
       "       'Andersen-Jensen, Miss. Carla Christine Nielsine',\n",
       "       'Anderson, Mr. Harry', 'Andersson, Master. Sigvard Harald Elias',\n",
       "       'Andersson, Miss. Ebba Iris Alfrida',\n",
       "       'Andersson, Miss. Ellis Anna Maria',\n",
       "       'Andersson, Miss. Erna Alexandra',\n",
       "       'Andersson, Miss. Ingeborg Constanzia',\n",
       "       'Andersson, Miss. Sigrid Elisabeth', 'Andersson, Mr. Anders Johan',\n",
       "       'Andersson, Mr. August Edvard (\"Wennerstrom\")',\n",
       "       'Andersson, Mrs. Anders Johan (Alfrida Konstantia Brogren)',\n",
       "       'Andreasson, Mr. Paul Edvin', 'Andrew, Mr. Edgardo Samuel',\n",
       "       'Andrews, Miss. Kornelia Theodosia', 'Andrews, Mr. Thomas Jr',\n",
       "       'Angle, Mrs. William A (Florence \"Mary\" Agnes Hughes)',\n",
       "       'Appleton, Mrs. Edward Dale (Charlotte Lamson)',\n",
       "       'Arnold-Franchi, Mr. Josef',\n",
       "       'Arnold-Franchi, Mrs. Josef (Josefine Franchi)',\n",
       "       'Artagaveytia, Mr. Ramon', 'Asim, Mr. Adola',\n",
       "       'Asplund, Master. Clarence Gustaf Hugo',\n",
       "       'Asplund, Master. Edvin Rojj Felix',\n",
       "       'Asplund, Miss. Lillian Gertrud',\n",
       "       'Asplund, Mrs. Carl Oscar (Selma Augusta Emilia Johansson)',\n",
       "       'Astor, Mrs. John Jacob (Madeleine Talmadge Force)',\n",
       "       'Attalah, Miss. Malake', 'Attalah, Mr. Sleiman',\n",
       "       'Aubart, Mme. Leontine Pauline', 'Augustsson, Mr. Albert',\n",
       "       'Ayoub, Miss. Banoura', 'Backstrom, Mr. Karl Alfred',\n",
       "       'Backstrom, Mrs. Karl Alfred (Maria Mathilda Gustafsson)',\n",
       "       'Baclini, Miss. Eugenie', 'Baclini, Miss. Helene Barbara',\n",
       "       'Baclini, Miss. Marie Catherine',\n",
       "       'Baclini, Mrs. Solomon (Latifa Qurban)', 'Badt, Mr. Mohamed',\n",
       "       'Bailey, Mr. Percy Andrew', 'Balkic, Mr. Cerin',\n",
       "       'Ball, Mrs. (Ada E Hall)', 'Banfield, Mr. Frederick James',\n",
       "       'Barah, Mr. Hanna Assi', 'Barbara, Miss. Saiide',\n",
       "       'Barbara, Mrs. (Catherine David)', 'Barber, Miss. Ellen \"Nellie\"',\n",
       "       'Barkworth, Mr. Algernon Henry Wilson', 'Barton, Mr. David John',\n",
       "       'Bateman, Rev. Robert James', 'Baumann, Mr. John D',\n",
       "       'Baxter, Mr. Quigg Edmond',\n",
       "       'Baxter, Mrs. James (Helene DeLaudeniere Chaput)',\n",
       "       'Bazzani, Miss. Albina', 'Beane, Mr. Edward',\n",
       "       'Beane, Mrs. Edward (Ethel Clarke)', 'Beavan, Mr. William Thomas',\n",
       "       'Becker, Master. Richard F', 'Becker, Miss. Marion Louise',\n",
       "       'Beckwith, Mr. Richard Leonard',\n",
       "       'Beckwith, Mrs. Richard Leonard (Sallie Monypeny)',\n",
       "       'Beesley, Mr. Lawrence', 'Behr, Mr. Karl Howell',\n",
       "       'Bengtsson, Mr. John Viktor', 'Berglund, Mr. Karl Ivar Sven',\n",
       "       'Berriman, Mr. William John', 'Betros, Mr. Tannous',\n",
       "       'Bidois, Miss. Rosalie', 'Bing, Mr. Lee',\n",
       "       'Birkeland, Mr. Hans Martin Monsen', 'Bishop, Mr. Dickinson H',\n",
       "       'Bishop, Mrs. Dickinson H (Helen Walton)',\n",
       "       'Bissette, Miss. Amelia',\n",
       "       'Bjornstrom-Steffansson, Mr. Mauritz Hakan',\n",
       "       'Blackwell, Mr. Stephen Weart', 'Blank, Mr. Henry',\n",
       "       'Bonnell, Miss. Elizabeth', 'Bostandyeff, Mr. Guentcho',\n",
       "       'Boulos, Miss. Nourelain', 'Boulos, Mr. Hanna',\n",
       "       'Boulos, Mrs. Joseph (Sultana)', 'Bourke, Miss. Mary',\n",
       "       'Bourke, Mr. John', 'Bourke, Mrs. John (Catherine)',\n",
       "       'Bowen, Mr. David John \"Dai\"', 'Bowerman, Miss. Elsie Edith',\n",
       "       'Bracken, Mr. James H',\n",
       "       'Bradley, Mr. George (\"George Arthur Brayton\")',\n",
       "       'Braund, Mr. Lewis Richard', 'Braund, Mr. Owen Harris',\n",
       "       'Brewe, Dr. Arthur Jackson', 'Brocklebank, Mr. William Alfred',\n",
       "       'Brown, Miss. Amelia \"Mildred\"',\n",
       "       'Brown, Mr. Thomas William Solomon',\n",
       "       'Brown, Mrs. James Joseph (Margaret Tobin)',\n",
       "       'Brown, Mrs. Thomas William Solomon (Elizabeth Catherine Ford)',\n",
       "       'Bryhl, Mr. Kurt Arnold Gottfrid', 'Burke, Mr. Jeremiah',\n",
       "       'Burns, Miss. Elizabeth Margaret', 'Buss, Miss. Kate',\n",
       "       'Butler, Mr. Reginald Fenton', 'Butt, Major. Archibald Willingham',\n",
       "       'Byles, Rev. Thomas Roussel Davids', 'Bystrom, Mrs. (Karolina)',\n",
       "       'Cacic, Miss. Marija', 'Cacic, Mr. Luka', 'Cairns, Mr. Alexander',\n",
       "       'Calderhead, Mr. Edward Pennington',\n",
       "       'Caldwell, Master. Alden Gates',\n",
       "       'Caldwell, Mrs. Albert Francis (Sylvia Mae Harbaugh)',\n",
       "       'Calic, Mr. Jovo', 'Calic, Mr. Petar',\n",
       "       'Cameron, Miss. Clear Annie', 'Campbell, Mr. William',\n",
       "       'Canavan, Miss. Mary', 'Cann, Mr. Ernest Charles',\n",
       "       'Caram, Mrs. Joseph (Maria Elias)', 'Carbines, Mr. William',\n",
       "       'Cardeza, Mr. Thomas Drake Martinez',\n",
       "       'Carlsson, Mr. August Sigfrid', 'Carlsson, Mr. Frans Olof',\n",
       "       'Carr, Miss. Helen \"Ellen\"', 'Carrau, Mr. Francisco M',\n",
       "       'Carter, Master. William Thornton II', 'Carter, Miss. Lucile Polk',\n",
       "       'Carter, Mr. William Ernest',\n",
       "       'Carter, Mrs. Ernest Courtenay (Lilian Hughes)',\n",
       "       'Carter, Mrs. William Ernest (Lucile Polk)',\n",
       "       'Carter, Rev. Ernest Courtenay', 'Cavendish, Mr. Tyrell William',\n",
       "       'Celotti, Mr. Francesco', 'Chaffee, Mr. Herbert Fuller',\n",
       "       'Chambers, Mr. Norman Campbell',\n",
       "       'Chambers, Mrs. Norman Campbell (Bertha Griggs)',\n",
       "       'Chapman, Mr. Charles Henry', 'Chapman, Mr. John Henry',\n",
       "       'Charters, Mr. David', 'Cherry, Miss. Gladys',\n",
       "       'Chibnall, Mrs. (Edith Martha Bowerman)', 'Chip, Mr. Chang',\n",
       "       'Christmann, Mr. Emil', 'Christy, Miss. Julie Rachel',\n",
       "       'Chronopoulos, Mr. Apostolos',\n",
       "       'Clarke, Mrs. Charles V (Ada Maria Winfield)',\n",
       "       'Cleaver, Miss. Alice', 'Clifford, Mr. George Quincy',\n",
       "       'Coelho, Mr. Domingos Fernandeo', 'Cohen, Mr. Gurshon \"Gus\"',\n",
       "       'Coleff, Mr. Peju', 'Coleff, Mr. Satio',\n",
       "       'Coleridge, Mr. Reginald Charles', 'Collander, Mr. Erik Gustaf',\n",
       "       'Colley, Mr. Edward Pomeroy', 'Collyer, Miss. Marjorie \"Lottie\"',\n",
       "       'Collyer, Mr. Harvey',\n",
       "       'Collyer, Mrs. Harvey (Charlotte Annie Tate)',\n",
       "       'Compton, Miss. Sara Rebecca', 'Connaghton, Mr. Michael',\n",
       "       'Connolly, Miss. Kate', 'Connors, Mr. Patrick', 'Cook, Mr. Jacob',\n",
       "       'Cor, Mr. Liudevit', 'Corn, Mr. Harry',\n",
       "       'Coutts, Master. Eden Leslie \"Neville\"',\n",
       "       'Coutts, Master. William Loch \"William\"', 'Coxon, Mr. Daniel',\n",
       "       'Crease, Mr. Ernest James', 'Cribb, Mr. John Hatfield',\n",
       "       'Crosby, Capt. Edward Gifford', 'Crosby, Miss. Harriet R',\n",
       "       'Culumovic, Mr. Jeso',\n",
       "       'Cumings, Mrs. John Bradley (Florence Briggs Thayer)',\n",
       "       'Cunningham, Mr. Alfred Fleming', 'Dahl, Mr. Karl Edwart',\n",
       "       'Dahlberg, Miss. Gerda Ulrika', 'Dakic, Mr. Branko',\n",
       "       'Daly, Mr. Eugene Patrick', 'Daly, Mr. Peter Denis ',\n",
       "       'Danbom, Mr. Ernst Gilbert',\n",
       "       'Danbom, Mrs. Ernst Gilbert (Anna Sigrid Maria Brogren)',\n",
       "       'Daniel, Mr. Robert Williams', 'Danoff, Mr. Yoto',\n",
       "       'Dantcheff, Mr. Ristiu', 'Davidson, Mr. Thornton',\n",
       "       'Davies, Master. John Morgan Jr', 'Davies, Mr. Alfred J',\n",
       "       'Davies, Mr. Charles Henry', 'Davis, Miss. Mary',\n",
       "       'Davison, Mrs. Thomas Henry (Mary E Finck)',\n",
       "       'Dean, Master. Bertram Vere', 'Dean, Mr. Bertram Frank',\n",
       "       'Denkoff, Mr. Mitto', 'Dennis, Mr. Samuel',\n",
       "       'Devaney, Miss. Margaret Delia', 'Dick, Mr. Albert Adrian',\n",
       "       'Dick, Mrs. Albert Adrian (Vera Gillespie)', 'Dimic, Mr. Jovan',\n",
       "       'Dodge, Master. Washington', 'Doharr, Mr. Tannous',\n",
       "       'Doling, Miss. Elsie', 'Doling, Mrs. John T (Ada Julia Bone)',\n",
       "       'Dooley, Mr. Patrick', 'Dorking, Mr. Edward Arthur',\n",
       "       'Douglas, Mr. Walter Donald', 'Dowdell, Miss. Elizabeth',\n",
       "       'Downton, Mr. William James', 'Drazenoic, Mr. Jozef',\n",
       "       'Drew, Mrs. James Vivian (Lulu Thorne Christian)',\n",
       "       'Duane, Mr. Frank',\n",
       "       'Duff Gordon, Lady. (Lucille Christiana Sutherland) (\"Mrs Morgan\")',\n",
       "       'Duff Gordon, Sir. Cosmo Edmund (\"Mr Morgan\")',\n",
       "       'Duran y More, Miss. Asuncion', 'Edvardsson, Mr. Gustaf Hjalmar',\n",
       "       'Eitemiller, Mr. George Floyd', 'Eklund, Mr. Hans Linus',\n",
       "       'Ekstrom, Mr. Johan', 'Elias, Mr. Dibo', 'Elias, Mr. Joseph Jr',\n",
       "       'Elias, Mr. Tannous', 'Elsbury, Mr. William James',\n",
       "       'Emanuel, Miss. Virginia Ethel', 'Emir, Mr. Farred Chehab',\n",
       "       'Endres, Miss. Caroline Louise', 'Eustis, Miss. Elizabeth Mussey',\n",
       "       'Fahlstrom, Mr. Arne Jonas', 'Farrell, Mr. James',\n",
       "       'Farthing, Mr. John',\n",
       "       'Faunthorpe, Mrs. Lizzie (Elizabeth Anne Wilkinson)',\n",
       "       'Fischer, Mr. Eberhard Thelander', 'Fleming, Miss. Margaret',\n",
       "       'Flynn, Mr. James', 'Flynn, Mr. John',\n",
       "       'Flynn, Mr. John Irwin (\"Irving\")', 'Foo, Mr. Choong',\n",
       "       'Ford, Miss. Doolina Margaret \"Daisy\"',\n",
       "       'Ford, Miss. Robina Maggie \"Ruby\"', 'Ford, Mr. William Neal',\n",
       "       'Ford, Mrs. Edward (Margaret Ann Watson)',\n",
       "       'Foreman, Mr. Benjamin Laventall',\n",
       "       'Fortune, Miss. Alice Elizabeth', 'Fortune, Miss. Mabel Helen',\n",
       "       'Fortune, Mr. Charles Alexander', 'Fortune, Mr. Mark',\n",
       "       'Fox, Mr. Stanley Hubert', 'Francatelli, Miss. Laura Mabel',\n",
       "       'Frauenthal, Dr. Henry William',\n",
       "       'Frauenthal, Mrs. Henry William (Clara Heinsheimer)',\n",
       "       'Frolicher, Miss. Hedwig Margaritha',\n",
       "       'Frolicher-Stehli, Mr. Maxmillian',\n",
       "       'Frost, Mr. Anthony Wood \"Archie\"', 'Fry, Mr. Richard',\n",
       "       'Funk, Miss. Annie Clemmer', 'Futrelle, Mr. Jacques Heath',\n",
       "       'Futrelle, Mrs. Jacques Heath (Lily May Peel)',\n",
       "       'Fynney, Mr. Joseph J', 'Gale, Mr. Shadrach',\n",
       "       'Gallagher, Mr. Martin', 'Garfirth, Mr. John',\n",
       "       'Garside, Miss. Ethel', 'Gaskell, Mr. Alfred',\n",
       "       'Gavey, Mr. Lawrence', 'Gee, Mr. Arthur H',\n",
       "       'Gheorgheff, Mr. Stanio', 'Giglio, Mr. Victor',\n",
       "       'Giles, Mr. Frederick Edward', 'Gilinski, Mr. Eliezer',\n",
       "       'Gill, Mr. John William', 'Gillespie, Mr. William Henry',\n",
       "       'Gilnagh, Miss. Katherine \"Katie\"', 'Givard, Mr. Hans Kristensen',\n",
       "       'Glynn, Miss. Mary Agatha', 'Goldenberg, Mr. Samuel L',\n",
       "       'Goldenberg, Mrs. Samuel L (Edwiga Grabowska)',\n",
       "       'Goldschmidt, Mr. George B',\n",
       "       'Goldsmith, Master. Frank John William \"Frankie\"',\n",
       "       'Goldsmith, Mr. Frank John',\n",
       "       'Goldsmith, Mrs. Frank John (Emily Alice Brown)',\n",
       "       'Goncalves, Mr. Manuel Estanslas',\n",
       "       'Goodwin, Master. Harold Victor',\n",
       "       'Goodwin, Master. Sidney Leonard',\n",
       "       'Goodwin, Master. William Frederick', 'Goodwin, Miss. Lillian Amy',\n",
       "       'Goodwin, Mr. Charles Edward',\n",
       "       'Goodwin, Mrs. Frederick (Augusta Tyler)',\n",
       "       'Graham, Miss. Margaret Edith', 'Graham, Mr. George Edward',\n",
       "       'Graham, Mrs. William Thompson (Edith Junkins)',\n",
       "       'Green, Mr. George Henry', 'Greenberg, Mr. Samuel',\n",
       "       'Greenfield, Mr. William Bertram',\n",
       "       'Gronnestad, Mr. Daniel Danielsen', 'Guggenheim, Mr. Benjamin',\n",
       "       'Gustafsson, Mr. Alfred Ossian', 'Gustafsson, Mr. Anders Vilhelm',\n",
       "       'Gustafsson, Mr. Johan Birger', 'Gustafsson, Mr. Karl Gideon',\n",
       "       'Haas, Miss. Aloisia', 'Hagland, Mr. Ingvald Olai Olsen',\n",
       "       'Hagland, Mr. Konrad Mathias Reiersen',\n",
       "       'Hakkarainen, Mr. Pekka Pietari',\n",
       "       'Hakkarainen, Mrs. Pekka Pietari (Elin Matilda Dolck)',\n",
       "       'Hale, Mr. Reginald', 'Hamalainen, Master. Viljo',\n",
       "       'Hamalainen, Mrs. William (Anna)', 'Hampe, Mr. Leon',\n",
       "       'Hanna, Mr. Mansour', 'Hansen, Mr. Claus Peter',\n",
       "       'Hansen, Mr. Henrik Juul', 'Hansen, Mr. Henry Damsgaard',\n",
       "       'Harder, Mr. George Achilles', 'Harknett, Miss. Alice Phoebe',\n",
       "       'Harmer, Mr. Abraham (David Lishin)',\n",
       "       'Harper, Miss. Annie Jessie \"Nina\"', 'Harper, Mr. Henry Sleeper',\n",
       "       'Harper, Mrs. Henry Sleeper (Myna Haxtun)', 'Harper, Rev. John',\n",
       "       'Harrington, Mr. Charles H', 'Harris, Mr. George',\n",
       "       'Harris, Mr. Henry Birkhardt', 'Harris, Mr. Walter',\n",
       "       'Harris, Mrs. Henry Birkhardt (Irene Wallach)',\n",
       "       'Harrison, Mr. William', 'Hart, Miss. Eva Miriam',\n",
       "       'Hart, Mr. Benjamin', 'Hart, Mr. Henry',\n",
       "       'Hart, Mrs. Benjamin (Esther Ada Bloomfield)',\n",
       "       'Hassab, Mr. Hammad', 'Hassan, Mr. Houssein G N',\n",
       "       'Hawksford, Mr. Walter James', 'Hays, Miss. Margaret Bechstein',\n",
       "       'Hays, Mrs. Charles Melville (Clara Jennings Gregg)',\n",
       "       'Healy, Miss. Hanora \"Nora\"', 'Hedman, Mr. Oskar Arvid',\n",
       "       'Hegarty, Miss. Hanora \"Nora\"', 'Heikkinen, Miss. Laina',\n",
       "       'Heininen, Miss. Wendla Maria', 'Hendekovic, Mr. Ignjac',\n",
       "       'Henry, Miss. Delia', 'Herman, Miss. Alice',\n",
       "       'Herman, Mrs. Samuel (Jane Laver)',\n",
       "       'Hewlett, Mrs. (Mary D Kingcome) ', 'Hickman, Mr. Leonard Mark',\n",
       "       'Hickman, Mr. Lewis', 'Hickman, Mr. Stanley George',\n",
       "       'Hippach, Miss. Jean Gertrude',\n",
       "       'Hippach, Mrs. Louis Albert (Ida Sophia Fischer)',\n",
       "       'Hirvonen, Miss. Hildur E', 'Hocking, Mr. Richard George',\n",
       "       'Hocking, Mrs. Elizabeth (Eliza Needs)', 'Hodges, Mr. Henry Price',\n",
       "       'Hogeboom, Mrs. John C (Anna Andrews)', 'Hold, Mr. Stephen',\n",
       "       'Holm, Mr. John Fredrik Alexander',\n",
       "       'Holverson, Mr. Alexander Oskar',\n",
       "       'Holverson, Mrs. Alexander Oskar (Mary Aline Towner)',\n",
       "       'Homer, Mr. Harry (\"Mr E Haven\")', 'Honkanen, Miss. Eliina',\n",
       "       'Hood, Mr. Ambrose Jr', 'Horgan, Mr. John', 'Hosono, Mr. Masabumi',\n",
       "       'Hoyt, Mr. Frederick Maxfield', 'Hoyt, Mr. William Fisher',\n",
       "       'Hoyt, Mrs. Frederick Maxfield (Jane Anne Forby)',\n",
       "       'Humblen, Mr. Adolf Mathias Nicolai Olsen',\n",
       "       'Hunt, Mr. George Henry', 'Ibrahim Shawah, Mr. Yousseff',\n",
       "       'Icard, Miss. Amelie', 'Ilett, Miss. Bertha',\n",
       "       'Ilmakangas, Miss. Pieta Sofia', 'Isham, Miss. Ann Elizabeth',\n",
       "       'Ivanoff, Mr. Kanio', 'Jacobsohn, Mr. Sidney Samuel',\n",
       "       'Jacobsohn, Mrs. Sidney Samuel (Amy Frances Christy)',\n",
       "       'Jalsevac, Mr. Ivan', 'Jansson, Mr. Carl Olof',\n",
       "       'Jardin, Mr. Jose Neto', 'Jarvis, Mr. John Denzil',\n",
       "       'Jenkin, Mr. Stephen Curnow', 'Jensen, Mr. Hans Peder',\n",
       "       'Jensen, Mr. Niels Peder', 'Jensen, Mr. Svend Lauritz',\n",
       "       'Jermyn, Miss. Annie',\n",
       "       'Jerwan, Mrs. Amin S (Marie Marthe Thuillard)',\n",
       "       'Johannesen-Bratthammer, Mr. Bernt', 'Johanson, Mr. Jakob Alfred',\n",
       "       'Johansson, Mr. Erik', 'Johansson, Mr. Gustaf Joel',\n",
       "       'Johansson, Mr. Karl Johan', 'Johnson, Master. Harold Theodor',\n",
       "       'Johnson, Miss. Eleanor Ileen', 'Johnson, Mr. Alfred',\n",
       "       'Johnson, Mr. Malkolm Joackim', 'Johnson, Mr. William Cahoone Jr',\n",
       "       'Johnson, Mrs. Oscar W (Elisabeth Vilhelmina Berg)',\n",
       "       'Johnston, Miss. Catherine Helen \"Carrie\"',\n",
       "       'Johnston, Mr. Andrew G', 'Jonkoff, Mr. Lalio',\n",
       "       'Jonsson, Mr. Carl', 'Jussila, Miss. Katriina',\n",
       "       'Jussila, Miss. Mari Aina', 'Jussila, Mr. Eiriik',\n",
       "       'Kallio, Mr. Nikolai Erland', 'Kalvik, Mr. Johannes Halvorsen',\n",
       "       'Kantor, Mr. Sinai', 'Kantor, Mrs. Sinai (Miriam Sternin)',\n",
       "       'Karaic, Mr. Milan', 'Karlsson, Mr. Nils August',\n",
       "       'Karun, Miss. Manca', 'Kassem, Mr. Fared', 'Keane, Miss. Nora A',\n",
       "       'Keane, Mr. Andrew \"Andy\"', 'Keefe, Mr. Arthur',\n",
       "       'Kelly, Miss. Anna Katherine \"Annie Kate\"', 'Kelly, Miss. Mary',\n",
       "       'Kelly, Mr. James', 'Kelly, Mrs. Florence \"Fannie\"',\n",
       "       'Kent, Mr. Edward Austin', 'Kenyon, Mrs. Frederick R (Marion)',\n",
       "       'Kiernan, Mr. Philip', 'Kilgannon, Mr. Thomas J',\n",
       "       'Kimball, Mr. Edwin Nelson Jr', 'Kink, Mr. Vincenz',\n",
       "       'Kink-Heilmann, Miss. Luise Gretchen',\n",
       "       'Kirkland, Rev. Charles Leonard', 'Klaber, Mr. Herman',\n",
       "       'Klasen, Mr. Klas Albin', 'Knight, Mr. Robert J',\n",
       "       'Kraeff, Mr. Theodor', 'Kvillner, Mr. Johan Henrik Johannesson',\n",
       "       'Lahoud, Mr. Sarkis', 'Lahtinen, Mrs. William (Anna Sylfven)',\n",
       "       'Laitinen, Miss. Kristina Sofia', 'Laleff, Mr. Kristo',\n",
       "       'Lam, Mr. Ali', 'Lam, Mr. Len', 'Landergren, Miss. Aurora Adelia',\n",
       "       'Lang, Mr. Fang', 'Laroche, Miss. Simonne Marie Anne Andree',\n",
       "       'Laroche, Mr. Joseph Philippe Lemercier',\n",
       "       'Laroche, Mrs. Joseph (Juliette Marie Louise Lafargue)',\n",
       "       'Larsson, Mr. August Viktor', 'Larsson, Mr. Bengt Edvin',\n",
       "       'LeRoy, Miss. Bertha', 'Leader, Dr. Alice (Farnham)',\n",
       "       'Leeni, Mr. Fahim (\"Philip Zenni\")',\n",
       "       'Lefebre, Master. Henry Forbes', 'Lefebre, Miss. Ida',\n",
       "       'Lefebre, Miss. Jeannie', 'Lefebre, Miss. Mathilde',\n",
       "       'Lehmann, Miss. Bertha', 'Leinonen, Mr. Antti Gustaf',\n",
       "       'Leitch, Miss. Jessie Wills', 'Lemberopolous, Mr. Peter L',\n",
       "       'Lemore, Mrs. (Amelia Milley)', 'Lennon, Mr. Denis',\n",
       "       'Leonard, Mr. Lionel', 'Lester, Mr. James',\n",
       "       'Lesurer, Mr. Gustave J', 'Levy, Mr. Rene Jacques',\n",
       "       'Lewy, Mr. Ervin G', 'Leyson, Mr. Robert William Norman',\n",
       "       'Lievens, Mr. Rene Aime', 'Lindahl, Miss. Agda Thorilda Viktoria',\n",
       "       'Lindblom, Miss. Augusta Charlotta',\n",
       "       'Lindell, Mr. Edvard Bengtsson', 'Lindqvist, Mr. Eino William',\n",
       "       'Lines, Miss. Mary Conover', 'Ling, Mr. Lee',\n",
       "       'Lobb, Mr. William Arthur',\n",
       "       'Lobb, Mrs. William Arthur (Cordelia K Stanlick)',\n",
       "       'Long, Mr. Milton Clyde', 'Longley, Miss. Gretchen Fiske',\n",
       "       'Louch, Mrs. Charles Alexander (Alice Adelaide Slow)',\n",
       "       'Lovell, Mr. John Hall (\"Henry\")', 'Lulic, Mr. Nikola',\n",
       "       'Lundahl, Mr. Johan Svensson', 'Lurette, Miss. Elise',\n",
       "       'Mack, Mrs. (Mary)', 'Madigan, Miss. Margaret \"Maggie\"',\n",
       "       'Madill, Miss. Georgette Alexandra', 'Madsen, Mr. Fridtjof Arne',\n",
       "       'Maenpaa, Mr. Matti Alexanteri', 'Maioni, Miss. Roberta',\n",
       "       'Maisner, Mr. Simon', 'Mallet, Master. Andre',\n",
       "       'Mallet, Mr. Albert', 'Mamee, Mr. Hanna', 'Mangan, Miss. Mary',\n",
       "       'Mannion, Miss. Margareth', 'Marechal, Mr. Pierre',\n",
       "       'Markoff, Mr. Marin', 'Markun, Mr. Johann',\n",
       "       'Marvin, Mr. Daniel Warner', 'Masselmani, Mrs. Fatima',\n",
       "       'Matthews, Mr. William John',\n",
       "       'Mayne, Mlle. Berthe Antonine (\"Mrs de Villiers\")',\n",
       "       'McCarthy, Mr. Timothy J', 'McCormack, Mr. Thomas Joseph',\n",
       "       'McCoy, Miss. Agnes', 'McCoy, Mr. Bernard',\n",
       "       'McDermott, Miss. Brigdet Delia', 'McEvoy, Mr. Michael',\n",
       "       'McGough, Mr. James Robert', 'McGovern, Miss. Mary',\n",
       "       'McGowan, Miss. Anna \"Annie\"', 'McKane, Mr. Peter David',\n",
       "       'McMahon, Mr. Martin', 'McNamee, Mr. Neal',\n",
       "       'Meanwell, Miss. (Marion Ogden)',\n",
       "       'Meek, Mrs. Thomas (Annie Louise Rowley)',\n",
       "       'Mellinger, Miss. Madeleine Violet',\n",
       "       'Mellinger, Mrs. (Elizabeth Anne Maidment)',\n",
       "       'Mellors, Mr. William John', 'Meo, Mr. Alfonzo',\n",
       "       'Mernagh, Mr. Robert', 'Meyer, Mr. August',\n",
       "       'Meyer, Mr. Edgar Joseph', 'Meyer, Mrs. Edgar Joseph (Leila Saks)',\n",
       "       'Millet, Mr. Francis Davis', 'Milling, Mr. Jacob Christian',\n",
       "       'Minahan, Dr. William Edward', 'Minahan, Miss. Daisy E',\n",
       "       'Mineff, Mr. Ivan', 'Mionoff, Mr. Stoytcho',\n",
       "       'Mitchell, Mr. Henry Michael', 'Mitkoff, Mr. Mito',\n",
       "       'Mockler, Miss. Helen Mary \"Ellie\"', 'Moen, Mr. Sigurd Hansen',\n",
       "       'Molson, Mr. Harry Markland', 'Montvila, Rev. Juozas',\n",
       "       'Moor, Master. Meier', 'Moor, Mrs. (Beila)',\n",
       "       'Moore, Mr. Leonard Charles', 'Moran, Miss. Bertha',\n",
       "       'Moran, Mr. Daniel J', 'Moran, Mr. James', 'Moraweck, Dr. Ernest',\n",
       "       'Morley, Mr. Henry Samuel (\"Mr Henry Marshall\")',\n",
       "       'Morley, Mr. William', 'Morrow, Mr. Thomas Rowan',\n",
       "       'Moss, Mr. Albert Johan', 'Moubarek, Master. Gerios',\n",
       "       'Moubarek, Master. Halim Gonios (\"William George\")',\n",
       "       'Moussa, Mrs. (Mantoura Boulos)', 'Moutal, Mr. Rahamin Haim',\n",
       "       'Mudd, Mr. Thomas Charles', 'Mullens, Miss. Katherine \"Katie\"',\n",
       "       'Murdlin, Mr. Joseph', 'Murphy, Miss. Katherine \"Kate\"',\n",
       "       'Murphy, Miss. Margaret Jane',\n",
       "       'Myhrman, Mr. Pehr Fabian Oliver Malkolm', 'Naidenoff, Mr. Penko',\n",
       "       'Najib, Miss. Adele Kiamie \"Jane\"', 'Nakid, Miss. Maria (\"Mary\")',\n",
       "       'Nakid, Mr. Sahid', 'Nankoff, Mr. Minko', 'Nasser, Mr. Nicholas',\n",
       "       'Nasser, Mrs. Nicholas (Adele Achem)', 'Natsch, Mr. Charles H',\n",
       "       'Navratil, Master. Edmond Roger', 'Navratil, Master. Michel M',\n",
       "       'Navratil, Mr. Michel (\"Louis M Hoffman\")', 'Nenkoff, Mr. Christo',\n",
       "       'Newell, Miss. Madeleine', 'Newell, Miss. Marjorie',\n",
       "       'Newell, Mr. Arthur Webster', 'Newsom, Miss. Helen Monypeny',\n",
       "       'Nicholls, Mr. Joseph Charles', 'Nicholson, Mr. Arthur Ernest',\n",
       "       'Nicola-Yarred, Master. Elias', 'Nicola-Yarred, Miss. Jamila',\n",
       "       'Nilsson, Miss. Helmina Josefina',\n",
       "       'Nirva, Mr. Iisakki Antino Aijo', 'Niskanen, Mr. Juha',\n",
       "       'Norman, Mr. Robert Douglas', 'Nosworthy, Mr. Richard Cater',\n",
       "       'Novel, Mr. Mansouer', 'Nye, Mrs. (Elizabeth Ramell)',\n",
       "       'Nysten, Miss. Anna Sofia', 'Nysveen, Mr. Johan Hansen',\n",
       "       \"O'Brien, Mr. Thomas\", \"O'Brien, Mr. Timothy\",\n",
       "       'O\\'Brien, Mrs. Thomas (Johanna \"Hannah\" Godfrey)',\n",
       "       \"O'Connell, Mr. Patrick D\", \"O'Connor, Mr. Maurice\",\n",
       "       \"O'Driscoll, Miss. Bridget\", 'O\\'Dwyer, Miss. Ellen \"Nellie\"',\n",
       "       'O\\'Leary, Miss. Hanora \"Norah\"', \"O'Sullivan, Miss. Bridget Mary\",\n",
       "       'Odahl, Mr. Nils Martin', 'Ohman, Miss. Velin',\n",
       "       'Olsen, Mr. Henry Margido', 'Olsen, Mr. Karl Siegwart Andreas',\n",
       "       'Olsen, Mr. Ole Martin', 'Olsson, Miss. Elina',\n",
       "       'Olsson, Mr. Nils Johan Goransson', 'Olsvigen, Mr. Thor Anderson',\n",
       "       'Oreskovic, Miss. Marija', 'Oreskovic, Mr. Luka',\n",
       "       'Osen, Mr. Olaf Elon', 'Osman, Mrs. Mara',\n",
       "       'Ostby, Mr. Engelhart Cornelius', 'Otter, Mr. Richard',\n",
       "       'Padro y Manent, Mr. Julian', 'Pain, Dr. Alfred',\n",
       "       'Palsson, Master. Gosta Leonard', 'Palsson, Miss. Stina Viola',\n",
       "       'Palsson, Miss. Torborg Danira',\n",
       "       'Palsson, Mrs. Nils (Alma Cornelia Berglund)',\n",
       "       'Panula, Master. Eino Viljami', 'Panula, Master. Juha Niilo',\n",
       "       'Panula, Master. Urho Abraham', 'Panula, Mr. Ernesti Arvid',\n",
       "       'Panula, Mr. Jaako Arnold',\n",
       "       'Panula, Mrs. Juha (Maria Emilia Ojala)',\n",
       "       'Parkes, Mr. Francis \"Frank\"', 'Parr, Mr. William Henry Marsh',\n",
       "       'Parrish, Mrs. (Lutie Davis)', 'Partner, Mr. Austen',\n",
       "       'Pasic, Mr. Jakob', 'Patchett, Mr. George', 'Paulner, Mr. Uscher',\n",
       "       'Pavlovic, Mr. Stefo', 'Pears, Mr. Thomas Clinton',\n",
       "       'Pears, Mrs. Thomas (Edith Wearne)', 'Peduzzi, Mr. Joseph',\n",
       "       'Pekoniemi, Mr. Edvard',\n",
       "       'Penasco y Castellana, Mr. Victor de Satode',\n",
       "       'Penasco y Castellana, Mrs. Victor de Satode (Maria Josefa Perez de Soto y Vallejo)',\n",
       "       'Pengelly, Mr. Frederick William', 'Perkin, Mr. John Henry',\n",
       "       'Pernot, Mr. Rene', 'Perreault, Miss. Anne',\n",
       "       'Persson, Mr. Ernst Ulrik', 'Peter, Miss. Anna',\n",
       "       'Peter, Mrs. Catherine (Catherine Rizk)', 'Peters, Miss. Katie',\n",
       "       'Petranec, Miss. Matilda', 'Petroff, Mr. Nedelio',\n",
       "       'Petroff, Mr. Pastcho (\"Pentcho\")', 'Petterson, Mr. Johan Emil',\n",
       "       'Pettersson, Miss. Ellen Natalia',\n",
       "       'Peuchen, Major. Arthur Godfrey',\n",
       "       'Phillips, Miss. Kate Florence (\"Mrs Kate Louise Phillips Marshall\")',\n",
       "       'Pickard, Mr. Berk (Berk Trembisky)', 'Pinsky, Mrs. (Rosa)',\n",
       "       'Plotcharsky, Mr. Vasil', 'Ponesell, Mr. Martin',\n",
       "       'Porter, Mr. Walter Chamberlain',\n",
       "       'Potter, Mrs. Thomas Jr (Lily Alexenia Wilson)',\n",
       "       'Quick, Miss. Phyllis May',\n",
       "       'Quick, Mrs. Frederick Charles (Jane Richards)',\n",
       "       'Radeff, Mr. Alexander', 'Razi, Mr. Raihed',\n",
       "       'Reed, Mr. James George', 'Reeves, Mr. David', 'Rekic, Mr. Tido',\n",
       "       'Renouf, Mr. Peter Henry',\n",
       "       'Renouf, Mrs. Peter Henry (Lillian Jefferys)',\n",
       "       'Reuchlin, Jonkheer. John George', 'Reynaldo, Ms. Encarnacion',\n",
       "       'Rice, Master. Arthur', 'Rice, Master. Eric',\n",
       "       'Rice, Master. Eugene', 'Rice, Master. George Hugh',\n",
       "       'Rice, Mrs. William (Margaret Norton)', 'Richard, Mr. Emile',\n",
       "       'Richards, Master. George Sibley',\n",
       "       'Richards, Master. William Rowe',\n",
       "       'Richards, Mrs. Sidney (Emily Hocking)', 'Ridsdale, Miss. Lucy',\n",
       "       'Ringhini, Mr. Sante', 'Rintamaki, Mr. Matti',\n",
       "       'Risien, Mr. Samuel Beard', 'Robbins, Mr. Victor',\n",
       "       'Robert, Mrs. Edward Scott (Elisabeth Walton McMillan)',\n",
       "       'Robins, Mrs. Alexander A (Grace Charity Laury)',\n",
       "       'Roebling, Mr. Washington Augustus II', 'Rogers, Mr. William John',\n",
       "       'Romaine, Mr. Charles Hallace (\"Mr C Rolmane\")',\n",
       "       'Rommetvedt, Mr. Knud Paust', 'Rood, Mr. Hugh Roscoe',\n",
       "       'Rosblom, Mr. Viktor Richard',\n",
       "       'Rosblom, Mrs. Viktor (Helena Wilhelmina)', 'Ross, Mr. John Hugo',\n",
       "       'Rothes, the Countess. of (Lucy Noel Martha Dyer-Edwards)',\n",
       "       'Rothschild, Mrs. Martin (Elizabeth L. Barrett)',\n",
       "       'Rouse, Mr. Richard Henry', 'Rugg, Miss. Emily',\n",
       "       'Rush, Mr. Alfred George John', 'Ryan, Mr. Patrick',\n",
       "       'Ryerson, Miss. Emily Borie',\n",
       "       'Ryerson, Miss. Susan Parker \"Suzette\"', 'Saad, Mr. Amin',\n",
       "       'Saad, Mr. Khalil', 'Saalfeld, Mr. Adolphe',\n",
       "       'Sadlier, Mr. Matthew', 'Sage, Master. Thomas Henry',\n",
       "       'Sage, Miss. Constance Gladys',\n",
       "       'Sage, Miss. Dorothy Edith \"Dolly\"', 'Sage, Miss. Stella Anna',\n",
       "       'Sage, Mr. Douglas Bullen', 'Sage, Mr. Frederick',\n",
       "       'Sage, Mr. George John Jr', 'Sagesser, Mlle. Emma',\n",
       "       'Salkjelsvik, Miss. Anna Kristine', 'Salonen, Mr. Johan Werner',\n",
       "       'Samaan, Mr. Youssef', 'Sandstrom, Miss. Marguerite Rut',\n",
       "       'Sandstrom, Mrs. Hjalmar (Agnes Charlotta Bengtsson)',\n",
       "       'Saundercock, Mr. William Henry', 'Sawyer, Mr. Frederick Charles',\n",
       "       'Scanlan, Mr. James', 'Sdycoff, Mr. Todor',\n",
       "       'Sedgwick, Mr. Charles Frederick Waddington',\n",
       "       'Serepeca, Miss. Augusta', 'Seward, Mr. Frederic Kimber',\n",
       "       'Sharp, Mr. Percival James R', 'Sheerlinck, Mr. Jan Baptist',\n",
       "       'Shellard, Mr. Frederick William',\n",
       "       'Shelley, Mrs. William (Imanita Parrish Hall)',\n",
       "       'Shorney, Mr. Charles Joseph', 'Shutes, Miss. Elizabeth W',\n",
       "       'Silven, Miss. Lyyli Karoliina',\n",
       "       'Silverthorne, Mr. Spencer Victor', 'Silvey, Mr. William Baird',\n",
       "       'Silvey, Mrs. William Baird (Alice Munger)', 'Simmons, Mr. John',\n",
       "       'Simonius-Blumer, Col. Oberst Alfons', 'Sinkkonen, Miss. Anna',\n",
       "       'Sirayanian, Mr. Orsen', 'Sirota, Mr. Maurice',\n",
       "       'Sivic, Mr. Husein', 'Sivola, Mr. Antti Wilhelm',\n",
       "       'Sjoblom, Miss. Anna Sofia', 'Sjostedt, Mr. Ernst Adolf',\n",
       "       'Skoog, Master. Harald', 'Skoog, Master. Karl Thorsten',\n",
       "       'Skoog, Miss. Mabel', 'Skoog, Miss. Margit Elizabeth',\n",
       "       'Skoog, Mr. Wilhelm',\n",
       "       'Skoog, Mrs. William (Anna Bernhardina Karlsson)',\n",
       "       'Slabenoff, Mr. Petco', 'Slayter, Miss. Hilda Mary',\n",
       "       'Slemen, Mr. Richard James', 'Slocovski, Mr. Selman Francis',\n",
       "       'Sloper, Mr. William Thompson', 'Smart, Mr. John Montgomery',\n",
       "       'Smiljanic, Mr. Mile', 'Smith, Miss. Marion Elsie',\n",
       "       'Smith, Mr. James Clinch', 'Smith, Mr. Richard William',\n",
       "       'Smith, Mr. Thomas', 'Sobey, Mr. Samuel James Hayden',\n",
       "       'Soholt, Mr. Peter Andreas Lauritz Andersen',\n",
       "       'Somerton, Mr. Francis William',\n",
       "       'Spedden, Mrs. Frederic Oakley (Margaretta Corning Stone)',\n",
       "       'Spencer, Mrs. William Augustus (Marie Eugenie)',\n",
       "       'Stahelin-Maeglin, Dr. Max', 'Staneff, Mr. Ivan',\n",
       "       'Stankovic, Mr. Ivan', 'Stanley, Miss. Amy Zillah Elsie',\n",
       "       'Stanley, Mr. Edward Roland', 'Stead, Mr. William Thomas',\n",
       "       'Stephenson, Mrs. Walter Bertram (Martha Eustis)',\n",
       "       'Stewart, Mr. Albert A',\n",
       "       'Stone, Mrs. George Nelson (Martha Evelyn)',\n",
       "       'Stoytcheff, Mr. Ilia', 'Strandberg, Miss. Ida Sofia',\n",
       "       'Stranden, Mr. Juho', 'Strom, Miss. Telma Matilda',\n",
       "       'Strom, Mrs. Wilhelm (Elna Matilda Persson)',\n",
       "       'Sunderland, Mr. Victor Francis', 'Sundman, Mr. Johan Julian',\n",
       "       'Sutehall, Mr. Henry Jr', 'Sutton, Mr. Frederick',\n",
       "       'Svensson, Mr. Johan', 'Svensson, Mr. Olof',\n",
       "       'Swift, Mrs. Frederick Joel (Margaret Welles Barron)',\n",
       "       'Taussig, Miss. Ruth', 'Taussig, Mr. Emil',\n",
       "       'Taussig, Mrs. Emil (Tillie Mandelbaum)',\n",
       "       'Taylor, Mr. Elmer Zebley',\n",
       "       'Taylor, Mrs. Elmer Zebley (Juliet Cummins Wright)',\n",
       "       'Thayer, Mr. John Borland', 'Thayer, Mr. John Borland Jr',\n",
       "       'Thayer, Mrs. John Borland (Marian Longstreth Morris)',\n",
       "       'Theobald, Mr. Thomas Leonard', 'Thomas, Master. Assad Alexander',\n",
       "       'Thorne, Mrs. Gertrude Maybelle', 'Thorneycroft, Mr. Percival',\n",
       "       'Thorneycroft, Mrs. Percival (Florence Kate White)',\n",
       "       'Tikkanen, Mr. Juho', 'Tobin, Mr. Roger', 'Todoroff, Mr. Lalio',\n",
       "       'Tomlin, Mr. Ernest Portage', 'Toomey, Miss. Ellen',\n",
       "       'Torber, Mr. Ernst William', 'Tornquist, Mr. William Henry',\n",
       "       'Toufik, Mr. Nakli', 'Touma, Mrs. Darwis (Hanne Youssef Razi)',\n",
       "       'Troupiansky, Mr. Moses Aaron', 'Trout, Mrs. William H (Jessie L)',\n",
       "       'Troutt, Miss. Edwina Celia \"Winnie\"', 'Turcin, Mr. Stjepan',\n",
       "       'Turja, Miss. Anna Sofia', 'Turkula, Mrs. (Hedwig)',\n",
       "       'Turpin, Mr. William John Robert',\n",
       "       'Turpin, Mrs. William John Robert (Dorothy Ann Wonnacott)',\n",
       "       'Uruchurtu, Don. Manuel E', 'Van Impe, Miss. Catharina',\n",
       "       'Van Impe, Mr. Jean Baptiste',\n",
       "       'Van Impe, Mrs. Jean Baptiste (Rosalie Paula Govaert)',\n",
       "       'Van der hoef, Mr. Wyckoff', 'Vande Velde, Mr. Johannes Joseph',\n",
       "       'Vande Walle, Mr. Nestor Cyriel', 'Vanden Steen, Mr. Leo Peter',\n",
       "       'Vander Cruyssen, Mr. Victor',\n",
       "       'Vander Planke, Miss. Augusta Maria',\n",
       "       'Vander Planke, Mr. Leo Edmondus',\n",
       "       'Vander Planke, Mrs. Julius (Emelia Maria Vandemoortele)',\n",
       "       'Vestrom, Miss. Hulda Amanda Adolfina', 'Vovk, Mr. Janko',\n",
       "       'Waelens, Mr. Achille', 'Walker, Mr. William Anderson',\n",
       "       'Ward, Miss. Anna',\n",
       "       'Warren, Mrs. Frank Manley (Anna Sophia Atkinson)',\n",
       "       'Watson, Mr. Ennis Hastings',\n",
       "       'Watt, Mrs. James (Elizabeth \"Bessie\" Inglis Milne)',\n",
       "       'Webber, Miss. Susan', 'Webber, Mr. James', 'Weir, Col. John',\n",
       "       'Weisz, Mrs. Leopold (Mathilde Francoise Pede)',\n",
       "       'Wells, Miss. Joan', 'West, Miss. Constance Mirium',\n",
       "       'West, Mr. Edwy Arthur', 'West, Mrs. Edwy Arthur (Ada Mary Worth)',\n",
       "       'Wheadon, Mr. Edward H', 'White, Mr. Percival Wayland',\n",
       "       'White, Mr. Richard Frasar', 'Wick, Miss. Mary Natalie',\n",
       "       'Wick, Mrs. George Dennick (Mary Hitchcock)',\n",
       "       'Widegren, Mr. Carl/Charles Peter', 'Widener, Mr. Harry Elkins',\n",
       "       'Wiklund, Mr. Jakob Alfred', 'Wilhelms, Mr. Charles',\n",
       "       'Willey, Mr. Edward', 'Williams, Mr. Charles Duane',\n",
       "       'Williams, Mr. Charles Eugene',\n",
       "       'Williams, Mr. Howard Hugh \"Harry\"', 'Williams, Mr. Leslie',\n",
       "       'Williams-Lambert, Mr. Fletcher Fellows', 'Windelov, Mr. Einar',\n",
       "       'Wiseman, Mr. Phillippe', 'Woolner, Mr. Hugh',\n",
       "       'Wright, Mr. George', 'Yasbeck, Mr. Antoni',\n",
       "       'Yasbeck, Mrs. Antoni (Selini Alexander)',\n",
       "       'Young, Miss. Marie Grice', 'Youseff, Mr. Gerious',\n",
       "       'Yousif, Mr. Wazli', 'Yousseff, Mr. Gerious',\n",
       "       'Yrois, Miss. Henriette (\"Mrs Harbeck\")', 'Zabour, Miss. Hileni',\n",
       "       'Zabour, Miss. Thamine', 'Zimmerman, Mr. Leo',\n",
       "       'de Messemaeker, Mrs. Guillaume Joseph (Emma)',\n",
       "       'de Mulder, Mr. Theodore', 'de Pelsmaeker, Mr. Alfons',\n",
       "       'del Carlo, Mr. Sebastiano', 'van Billiard, Mr. Austin Blyler',\n",
       "       'van Melkebeke, Mr. Philemon'], dtype=object)"
      ]
     },
     "execution_count": 44,
     "metadata": {},
     "output_type": "execute_result"
    }
   ],
   "source": [
    "np.unique(data['Name'])"
   ]
  },
  {
   "cell_type": "code",
   "execution_count": 45,
   "metadata": {},
   "outputs": [
    {
     "data": {
      "text/plain": [
       "array(['110152', '110413', '110465', '110564', '110813', '111240',\n",
       "       '111320', '111361', '111369', '111426', '111427', '111428',\n",
       "       '112050', '112052', '112053', '112058', '112059', '112277',\n",
       "       '112379', '113028', '113043', '113050', '113051', '113055',\n",
       "       '113056', '113059', '113501', '113503', '113505', '113509',\n",
       "       '113510', '113514', '113572', '113760', '113767', '113773',\n",
       "       '113776', '113781', '113783', '113784', '113786', '113787',\n",
       "       '113788', '113789', '113792', '113794', '113796', '113798',\n",
       "       '113800', '113803', '113804', '113806', '113807', '11668', '11751',\n",
       "       '11752', '11753', '11755', '11765', '11767', '11769', '11771',\n",
       "       '11774', '11813', '11967', '12233', '12460', '12749', '13049',\n",
       "       '13213', '13214', '13502', '13507', '13509', '13567', '13568',\n",
       "       '14311', '14312', '14313', '14973', '1601', '16966', '16988',\n",
       "       '17421', '17453', '17463', '17464', '17465', '17466', '17474',\n",
       "       '17764', '19877', '19928', '19943', '19947', '19950', '19952',\n",
       "       '19972', '19988', '19996', '2003', '211536', '21440', '218629',\n",
       "       '219533', '220367', '220845', '2223', '223596', '226593', '226875',\n",
       "       '228414', '229236', '230080', '230136', '230433', '230434',\n",
       "       '231919', '231945', '233639', '233866', '234360', '234604',\n",
       "       '234686', '234818', '236171', '236852', '236853', '237442',\n",
       "       '237565', '237668', '237671', '237736', '237789', '237798',\n",
       "       '239853', '239854', '239855', '239856', '239865', '240929',\n",
       "       '24160', '243847', '243880', '244252', '244270', '244278',\n",
       "       '244310', '244358', '244361', '244367', '244373', '248698',\n",
       "       '248706', '248723', '248727', '248731', '248733', '248738',\n",
       "       '248740', '248747', '250643', '250644', '250646', '250647',\n",
       "       '250648', '250649', '250651', '250652', '250653', '250655', '2620',\n",
       "       '2623', '2624', '2625', '2626', '2627', '2628', '2629', '2631',\n",
       "       '26360', '2641', '2647', '2648', '2649', '2650', '2651', '2653',\n",
       "       '2659', '2661', '2662', '2663', '2664', '2665', '2666', '2667',\n",
       "       '2668', '2669', '26707', '2671', '2672', '2674', '2677', '2678',\n",
       "       '2680', '2683', '2685', '2686', '2687', '2689', '2690', '2691',\n",
       "       '2693', '2694', '2695', '2697', '2699', '2700', '27042', '27267',\n",
       "       '27849', '28134', '28206', '28213', '28220', '28228', '28403',\n",
       "       '28424', '28425', '28551', '28664', '28665', '29011', '2908',\n",
       "       '29103', '29104', '29105', '29106', '29108', '2926', '29750',\n",
       "       '29751', '3101264', '3101265', '3101267', '3101276', '3101277',\n",
       "       '3101278', '3101281', '3101295', '3101296', '3101298', '31027',\n",
       "       '31028', '312991', '312992', '312993', '31418', '315037', '315082',\n",
       "       '315084', '315086', '315088', '315089', '315090', '315093',\n",
       "       '315094', '315096', '315097', '315098', '315151', '315153',\n",
       "       '323592', '323951', '324669', '330877', '330909', '330919',\n",
       "       '330923', '330931', '330932', '330935', '330958', '330959',\n",
       "       '330979', '330980', '334912', '335097', '335677', '33638',\n",
       "       '336439', '3411', '341826', '34218', '342826', '343095', '343120',\n",
       "       '343275', '343276', '345364', '345572', '345763', '345764',\n",
       "       '345765', '345767', '345769', '345770', '345773', '345774',\n",
       "       '345777', '345778', '345779', '345780', '345781', '345783', '3460',\n",
       "       '347054', '347060', '347061', '347062', '347063', '347064',\n",
       "       '347067', '347068', '347069', '347071', '347073', '347074',\n",
       "       '347076', '347077', '347078', '347080', '347081', '347082',\n",
       "       '347083', '347085', '347087', '347088', '347089', '3474', '347464',\n",
       "       '347466', '347468', '347470', '347742', '347743', '348121',\n",
       "       '348123', '348124', '349201', '349203', '349204', '349205',\n",
       "       '349206', '349207', '349208', '349209', '349210', '349212',\n",
       "       '349213', '349214', '349215', '349216', '349217', '349218',\n",
       "       '349219', '349221', '349222', '349223', '349224', '349225',\n",
       "       '349227', '349228', '349231', '349233', '349234', '349236',\n",
       "       '349237', '349239', '349240', '349241', '349242', '349243',\n",
       "       '349244', '349245', '349246', '349247', '349248', '349249',\n",
       "       '349251', '349252', '349253', '349254', '349256', '349257',\n",
       "       '349909', '349910', '349912', '350025', '350026', '350029',\n",
       "       '350034', '350035', '350036', '350042', '350043', '350046',\n",
       "       '350047', '350048', '350050', '350052', '350060', '350404',\n",
       "       '350406', '350407', '350417', '35273', '35281', '35851', '35852',\n",
       "       '358585', '36209', '362316', '363291', '363294', '363592',\n",
       "       '364498', '364499', '364500', '364506', '364511', '364512',\n",
       "       '364516', '364846', '364848', '364849', '364850', '364851',\n",
       "       '365222', '365226', '36568', '367226', '367228', '367229',\n",
       "       '367230', '367231', '367232', '367655', '368323', '36864', '36865',\n",
       "       '36866', '368703', '36928', '36947', '36963', '36967', '36973',\n",
       "       '370129', '370365', '370369', '370370', '370371', '370372',\n",
       "       '370373', '370375', '370376', '370377', '371060', '371110',\n",
       "       '371362', '372622', '373450', '374746', '374887', '374910',\n",
       "       '376564', '376566', '382649', '382651', '382652', '383121',\n",
       "       '384461', '386525', '392091', '392092', '392096', '394140', '4133',\n",
       "       '4134', '4135', '4136', '4137', '4138', '4579', '54636', '5727',\n",
       "       '65303', '65304', '65306', '6563', '693', '695', '7267', '7534',\n",
       "       '7540', '7545', '7546', '7552', '7553', '7598', '8471', '8475',\n",
       "       '9234', 'A./5. 2152', 'A./5. 3235', 'A.5. 11206', 'A.5. 18509',\n",
       "       'A/4 45380', 'A/4 48871', 'A/4. 20589', 'A/4. 34244', 'A/4. 39886',\n",
       "       'A/5 21171', 'A/5 21172', 'A/5 21173', 'A/5 21174', 'A/5 2466',\n",
       "       'A/5 2817', 'A/5 3536', 'A/5 3540', 'A/5 3594', 'A/5 3902',\n",
       "       'A/5. 10482', 'A/5. 13032', 'A/5. 2151', 'A/5. 3336', 'A/5. 3337',\n",
       "       'A/5. 851', 'A/S 2816', 'A4. 54510', 'C 17369', 'C 4001', 'C 7075',\n",
       "       'C 7076', 'C 7077', 'C.A. 17248', 'C.A. 18723', 'C.A. 2315',\n",
       "       'C.A. 24579', 'C.A. 24580', 'C.A. 2673', 'C.A. 29178',\n",
       "       'C.A. 29395', 'C.A. 29566', 'C.A. 31026', 'C.A. 31921',\n",
       "       'C.A. 33111', 'C.A. 33112', 'C.A. 33595', 'C.A. 34260',\n",
       "       'C.A. 34651', 'C.A. 37671', 'C.A. 5547', 'C.A. 6212',\n",
       "       'C.A./SOTON 34068', 'CA 2144', 'CA. 2314', 'CA. 2343',\n",
       "       'F.C. 12750', 'F.C.C. 13528', 'F.C.C. 13529', 'F.C.C. 13531',\n",
       "       'Fa 265302', 'LINE', 'P/PP 3381', 'PC 17318', 'PC 17473',\n",
       "       'PC 17474', 'PC 17475', 'PC 17476', 'PC 17477', 'PC 17482',\n",
       "       'PC 17483', 'PC 17485', 'PC 17558', 'PC 17569', 'PC 17572',\n",
       "       'PC 17582', 'PC 17585', 'PC 17590', 'PC 17592', 'PC 17593',\n",
       "       'PC 17595', 'PC 17596', 'PC 17597', 'PC 17599', 'PC 17600',\n",
       "       'PC 17601', 'PC 17603', 'PC 17604', 'PC 17605', 'PC 17608',\n",
       "       'PC 17609', 'PC 17610', 'PC 17611', 'PC 17612', 'PC 17754',\n",
       "       'PC 17755', 'PC 17756', 'PC 17757', 'PC 17758', 'PC 17759',\n",
       "       'PC 17760', 'PC 17761', 'PP 4348', 'PP 9549', 'S.C./A.4. 23567',\n",
       "       'S.C./PARIS 2079', 'S.O./P.P. 3', 'S.O./P.P. 751', 'S.O.C. 14879',\n",
       "       'S.O.P. 1166', 'S.P. 3464', 'S.W./PP 752', 'SC 1748',\n",
       "       'SC/AH 29037', 'SC/AH 3085', 'SC/AH Basle 541', 'SC/PARIS 2131',\n",
       "       'SC/PARIS 2133', 'SC/PARIS 2146', 'SC/PARIS 2149', 'SC/PARIS 2167',\n",
       "       'SC/Paris 2123', 'SC/Paris 2163', 'SCO/W 1585', 'SO/C 14885',\n",
       "       'SOTON/O.Q. 3101305', 'SOTON/O.Q. 3101306', 'SOTON/O.Q. 3101307',\n",
       "       'SOTON/O.Q. 3101310', 'SOTON/O.Q. 3101311', 'SOTON/O.Q. 3101312',\n",
       "       'SOTON/O.Q. 392078', 'SOTON/O.Q. 392087', 'SOTON/O2 3101272',\n",
       "       'SOTON/O2 3101287', 'SOTON/OQ 3101316', 'SOTON/OQ 3101317',\n",
       "       'SOTON/OQ 392076', 'SOTON/OQ 392082', 'SOTON/OQ 392086',\n",
       "       'SOTON/OQ 392089', 'SOTON/OQ 392090', 'STON/O 2. 3101269',\n",
       "       'STON/O 2. 3101273', 'STON/O 2. 3101274', 'STON/O 2. 3101275',\n",
       "       'STON/O 2. 3101280', 'STON/O 2. 3101285', 'STON/O 2. 3101286',\n",
       "       'STON/O 2. 3101288', 'STON/O 2. 3101289', 'STON/O 2. 3101292',\n",
       "       'STON/O 2. 3101293', 'STON/O 2. 3101294', 'STON/O2. 3101271',\n",
       "       'STON/O2. 3101279', 'STON/O2. 3101282', 'STON/O2. 3101283',\n",
       "       'STON/O2. 3101290', 'SW/PP 751', 'W./C. 14258', 'W./C. 14263',\n",
       "       'W./C. 6607', 'W./C. 6608', 'W./C. 6609', 'W.E.P. 5734',\n",
       "       'W/C 14208', 'WE/P 5735'], dtype=object)"
      ]
     },
     "execution_count": 45,
     "metadata": {},
     "output_type": "execute_result"
    }
   ],
   "source": [
    "np.unique(data['Ticket'])"
   ]
  },
  {
   "cell_type": "code",
   "execution_count": 46,
   "metadata": {},
   "outputs": [],
   "source": [
    "##np.unique(data['Cabin'])"
   ]
  },
  {
   "cell_type": "code",
   "execution_count": 47,
   "metadata": {},
   "outputs": [],
   "source": [
    "##np.unique(data['Embarked'])"
   ]
  },
  {
   "cell_type": "code",
   "execution_count": 48,
   "metadata": {},
   "outputs": [
    {
     "data": {
      "text/plain": [
       "array(['female', 'male'], dtype=object)"
      ]
     },
     "execution_count": 48,
     "metadata": {},
     "output_type": "execute_result"
    }
   ],
   "source": [
    "np.unique(data['Sex'])"
   ]
  },
  {
   "cell_type": "markdown",
   "metadata": {},
   "source": [
    "No se tienen variables que contengan las mismas opciones."
   ]
  },
  {
   "cell_type": "markdown",
   "metadata": {},
   "source": [
    "## 2.7 Rare Labels:"
   ]
  },
  {
   "cell_type": "code",
   "execution_count": 49,
   "metadata": {},
   "outputs": [],
   "source": [
    "def analyse_rare_labels(df, var, rare_perc):\n",
    "    temp = df.groupby(var)['Survived'].count()/len(df)\n",
    "    \n",
    "    return temp[temp < rare_perc]"
   ]
  },
  {
   "cell_type": "code",
   "execution_count": 50,
   "metadata": {},
   "outputs": [
    {
     "name": "stdout",
     "output_type": "stream",
     "text": [
      "Name\n",
      "Abbing, Mr. Anthony                      0.001122\n",
      "Abbott, Mr. Rossmore Edward              0.001122\n",
      "Abbott, Mrs. Stanton (Rosa Hunt)         0.001122\n",
      "Abelson, Mr. Samuel                      0.001122\n",
      "Abelson, Mrs. Samuel (Hannah Wizosky)    0.001122\n",
      "                                           ...   \n",
      "de Mulder, Mr. Theodore                  0.001122\n",
      "de Pelsmaeker, Mr. Alfons                0.001122\n",
      "del Carlo, Mr. Sebastiano                0.001122\n",
      "van Billiard, Mr. Austin Blyler          0.001122\n",
      "van Melkebeke, Mr. Philemon              0.001122\n",
      "Name: Survived, Length: 891, dtype: float64\n",
      "\n",
      "Series([], Name: Survived, dtype: float64)\n",
      "\n",
      "Ticket\n",
      "110152         0.003367\n",
      "110413         0.003367\n",
      "110465         0.002245\n",
      "110564         0.001122\n",
      "110813         0.001122\n",
      "                 ...   \n",
      "W./C. 6608     0.004489\n",
      "W./C. 6609     0.001122\n",
      "W.E.P. 5734    0.001122\n",
      "W/C 14208      0.001122\n",
      "WE/P 5735      0.002245\n",
      "Name: Survived, Length: 681, dtype: float64\n",
      "\n",
      "Cabin\n",
      "A10    0.001122\n",
      "A14    0.001122\n",
      "A16    0.001122\n",
      "A19    0.001122\n",
      "A20    0.001122\n",
      "         ...   \n",
      "F33    0.003367\n",
      "F38    0.001122\n",
      "F4     0.002245\n",
      "G6     0.004489\n",
      "T      0.001122\n",
      "Name: Survived, Length: 147, dtype: float64\n",
      "\n",
      "Series([], Name: Survived, dtype: float64)\n",
      "\n"
     ]
    }
   ],
   "source": [
    "for var in cat_vars:\n",
    "    print(analyse_rare_labels(data, var, 0.01))\n",
    "    print()"
   ]
  },
  {
   "cell_type": "code",
   "execution_count": 51,
   "metadata": {},
   "outputs": [
    {
     "data": {
      "image/png": "[encoded data removed]",
      "text/plain": [
       "<Figure size 432x288 with 1 Axes>"
      ]
     },
     "metadata": {
      "needs_background": "light"
     },
     "output_type": "display_data"
    },
    {
     "data": {
      "image/png": "[encoded data removed]",
      "text/plain": [
       "<Figure size 432x288 with 1 Axes>"
      ]
     },
     "metadata": {
      "needs_background": "light"
     },
     "output_type": "display_data"
    },
    {
     "data": {
      "image/png": "[encoded data removed]",
      "text/plain": [
       "<Figure size 432x288 with 1 Axes>"
      ]
     },
     "metadata": {
      "needs_background": "light"
     },
     "output_type": "display_data"
    },
    {
     "data": {
      "image/png": "[encoded data removed]",
      "text/plain": [
       "<Figure size 432x288 with 1 Axes>"
      ]
     },
     "metadata": {
      "needs_background": "light"
     },
     "output_type": "display_data"
    },
    {
     "data": {
      "image/png": "[encoded data removed]",
      "text/plain": [
       "<Figure size 432x288 with 1 Axes>"
      ]
     },
     "metadata": {
      "needs_background": "light"
     },
     "output_type": "display_data"
    }
   ],
   "source": [
    "for var in cat_vars:\n",
    "    sns.catplot(x=var, y = 'Survived', data=data, kind=\"box\", height=4, aspect=1.5)\n",
    "    sns.stripplot(x=var, y='Survived', data=data, jitter=0.1, alpha=0.3,color='k')\n",
    "    plt.show()"
   ]
  },
  {
   "cell_type": "code",
   "execution_count": 52,
   "metadata": {},
   "outputs": [],
   "source": [
    "pd.pandas.set_option('display.max_columns', None) #habilitamos despliegue maximo de columnas"
   ]
  },
  {
   "cell_type": "code",
   "execution_count": 53,
   "metadata": {},
   "outputs": [
    {
     "name": "stdout",
     "output_type": "stream",
     "text": [
      "(891, 12)\n"
     ]
    }
   ],
   "source": [
    "data = pd.read_csv('train.csv')\n",
    "print(data.shape)"
   ]
  },
  {
   "cell_type": "code",
   "execution_count": 54,
   "metadata": {},
   "outputs": [
    {
     "data": {
      "text/html": [
       "<div>\n",
       "<style scoped>\n",
       "    .dataframe tbody tr th:only-of-type {\n",
       "        vertical-align: middle;\n",
       "    }\n",
       "\n",
       "    .dataframe tbody tr th {\n",
       "        vertical-align: top;\n",
       "    }\n",
       "\n",
       "    .dataframe thead th {\n",
       "        text-align: right;\n",
       "    }\n",
       "</style>\n",
       "<table border=\"1\" class=\"dataframe\">\n",
       "  <thead>\n",
       "    <tr style=\"text-align: right;\">\n",
       "      <th></th>\n",
       "      <th>PassengerId</th>\n",
       "      <th>Survived</th>\n",
       "      <th>Pclass</th>\n",
       "      <th>Name</th>\n",
       "      <th>Sex</th>\n",
       "      <th>Age</th>\n",
       "      <th>SibSp</th>\n",
       "      <th>Parch</th>\n",
       "      <th>Ticket</th>\n",
       "      <th>Fare</th>\n",
       "      <th>Cabin</th>\n",
       "      <th>Embarked</th>\n",
       "    </tr>\n",
       "  </thead>\n",
       "  <tbody>\n",
       "    <tr>\n",
       "      <th>0</th>\n",
       "      <td>1</td>\n",
       "      <td>0</td>\n",
       "      <td>3</td>\n",
       "      <td>Braund, Mr. Owen Harris</td>\n",
       "      <td>male</td>\n",
       "      <td>22.0</td>\n",
       "      <td>1</td>\n",
       "      <td>0</td>\n",
       "      <td>A/5 21171</td>\n",
       "      <td>7.2500</td>\n",
       "      <td>NaN</td>\n",
       "      <td>S</td>\n",
       "    </tr>\n",
       "    <tr>\n",
       "      <th>1</th>\n",
       "      <td>2</td>\n",
       "      <td>1</td>\n",
       "      <td>1</td>\n",
       "      <td>Cumings, Mrs. John Bradley (Florence Briggs Th...</td>\n",
       "      <td>female</td>\n",
       "      <td>38.0</td>\n",
       "      <td>1</td>\n",
       "      <td>0</td>\n",
       "      <td>PC 17599</td>\n",
       "      <td>71.2833</td>\n",
       "      <td>C85</td>\n",
       "      <td>C</td>\n",
       "    </tr>\n",
       "    <tr>\n",
       "      <th>2</th>\n",
       "      <td>3</td>\n",
       "      <td>1</td>\n",
       "      <td>3</td>\n",
       "      <td>Heikkinen, Miss. Laina</td>\n",
       "      <td>female</td>\n",
       "      <td>26.0</td>\n",
       "      <td>0</td>\n",
       "      <td>0</td>\n",
       "      <td>STON/O2. 3101282</td>\n",
       "      <td>7.9250</td>\n",
       "      <td>NaN</td>\n",
       "      <td>S</td>\n",
       "    </tr>\n",
       "    <tr>\n",
       "      <th>3</th>\n",
       "      <td>4</td>\n",
       "      <td>1</td>\n",
       "      <td>1</td>\n",
       "      <td>Futrelle, Mrs. Jacques Heath (Lily May Peel)</td>\n",
       "      <td>female</td>\n",
       "      <td>35.0</td>\n",
       "      <td>1</td>\n",
       "      <td>0</td>\n",
       "      <td>113803</td>\n",
       "      <td>53.1000</td>\n",
       "      <td>C123</td>\n",
       "      <td>S</td>\n",
       "    </tr>\n",
       "    <tr>\n",
       "      <th>4</th>\n",
       "      <td>5</td>\n",
       "      <td>0</td>\n",
       "      <td>3</td>\n",
       "      <td>Allen, Mr. William Henry</td>\n",
       "      <td>male</td>\n",
       "      <td>35.0</td>\n",
       "      <td>0</td>\n",
       "      <td>0</td>\n",
       "      <td>373450</td>\n",
       "      <td>8.0500</td>\n",
       "      <td>NaN</td>\n",
       "      <td>S</td>\n",
       "    </tr>\n",
       "  </tbody>\n",
       "</table>\n",
       "</div>"
      ],
      "text/plain": [
       "   PassengerId  Survived  Pclass  \\\n",
       "0            1         0       3   \n",
       "1            2         1       1   \n",
       "2            3         1       3   \n",
       "3            4         1       1   \n",
       "4            5         0       3   \n",
       "\n",
       "                                                Name     Sex   Age  SibSp  \\\n",
       "0                            Braund, Mr. Owen Harris    male  22.0      1   \n",
       "1  Cumings, Mrs. John Bradley (Florence Briggs Th...  female  38.0      1   \n",
       "2                             Heikkinen, Miss. Laina  female  26.0      0   \n",
       "3       Futrelle, Mrs. Jacques Heath (Lily May Peel)  female  35.0      1   \n",
       "4                           Allen, Mr. William Henry    male  35.0      0   \n",
       "\n",
       "   Parch            Ticket     Fare Cabin Embarked  \n",
       "0      0         A/5 21171   7.2500   NaN        S  \n",
       "1      0          PC 17599  71.2833   C85        C  \n",
       "2      0  STON/O2. 3101282   7.9250   NaN        S  \n",
       "3      0            113803  53.1000  C123        S  \n",
       "4      0            373450   8.0500   NaN        S  "
      ]
     },
     "execution_count": 54,
     "metadata": {},
     "output_type": "execute_result"
    }
   ],
   "source": [
    "data.head()"
   ]
  },
  {
   "cell_type": "code",
   "execution_count": 55,
   "metadata": {},
   "outputs": [],
   "source": [
    "#separamos data para entrenamiento y prueba,\n",
    "X_train, X_test, y_train, y_test = train_test_split(\n",
    "                        data.drop(['Survived'], axis=1),\n",
    "                        data['Survived'],\n",
    "                        test_size=0.15,\n",
    "                        random_state=2021)"
   ]
  },
  {
   "cell_type": "code",
   "execution_count": 56,
   "metadata": {},
   "outputs": [
    {
     "data": {
      "text/plain": [
       "((757, 11), (134, 11))"
      ]
     },
     "execution_count": 56,
     "metadata": {},
     "output_type": "execute_result"
    }
   ],
   "source": [
    "X_train.shape, X_test.shape"
   ]
  },
  {
   "cell_type": "markdown",
   "metadata": {},
   "source": [
    "### 2. Missing Values"
   ]
  },
  {
   "cell_type": "code",
   "execution_count": 57,
   "metadata": {},
   "outputs": [],
   "source": [
    "cat_vars = [var for var in data.columns if data[var].dtype == 'O']\n",
    "cat_vars = cat_vars"
   ]
  },
  {
   "cell_type": "code",
   "execution_count": 58,
   "metadata": {},
   "outputs": [],
   "source": [
    "X_train[cat_vars] = X_train[cat_vars].astype('O')\n",
    "X_test[cat_vars] = X_test[cat_vars].astype('O')"
   ]
  },
  {
   "cell_type": "code",
   "execution_count": 59,
   "metadata": {},
   "outputs": [
    {
     "data": {
      "text/plain": [
       "5"
      ]
     },
     "execution_count": 59,
     "metadata": {},
     "output_type": "execute_result"
    }
   ],
   "source": [
    "len(cat_vars)"
   ]
  },
  {
   "cell_type": "markdown",
   "metadata": {},
   "source": [
    "##### 2.1.1 Detección de NaN en variables categórias"
   ]
  },
  {
   "cell_type": "code",
   "execution_count": 60,
   "metadata": {},
   "outputs": [],
   "source": [
    "cat_vars_with_na = [var for var in cat_vars \n",
    "                        if X_train[var].isnull().sum() > 0]"
   ]
  },
  {
   "cell_type": "code",
   "execution_count": 61,
   "metadata": {},
   "outputs": [
    {
     "data": {
      "text/plain": [
       "['Cabin', 'Embarked']"
      ]
     },
     "execution_count": 61,
     "metadata": {},
     "output_type": "execute_result"
    }
   ],
   "source": [
    "cat_vars_with_na"
   ]
  },
  {
   "cell_type": "code",
   "execution_count": 62,
   "metadata": {},
   "outputs": [
    {
     "data": {
      "text/plain": [
       "Cabin       0.764861\n",
       "Embarked    0.001321\n",
       "dtype: float64"
      ]
     },
     "execution_count": 62,
     "metadata": {},
     "output_type": "execute_result"
    }
   ],
   "source": [
    "X_train[cat_vars_with_na].isnull().mean().sort_values(ascending = False)"
   ]
  },
  {
   "cell_type": "code",
   "execution_count": 63,
   "metadata": {},
   "outputs": [],
   "source": [
    "#variables tratadas con etiqueta de faltante por cantidad masiva de faltantes.\n",
    "vars_with_missing_string = [var for var in cat_vars_with_na\n",
    "                               if X_train[var].isnull().mean() > 0.2]\n",
    "\n",
    "#variables tratadas con procedimiento por candiad adecuada de faltantes.\n",
    "vars_freq_category = [var for var in cat_vars_with_na\n",
    "                               if X_train[var].isnull().mean() <= 0.2]"
   ]
  },
  {
   "cell_type": "code",
   "execution_count": 64,
   "metadata": {},
   "outputs": [
    {
     "data": {
      "text/plain": [
       "['Cabin']"
      ]
     },
     "execution_count": 64,
     "metadata": {},
     "output_type": "execute_result"
    }
   ],
   "source": [
    "vars_with_missing_string"
   ]
  },
  {
   "cell_type": "code",
   "execution_count": 65,
   "metadata": {},
   "outputs": [
    {
     "data": {
      "text/plain": [
       "['Embarked']"
      ]
     },
     "execution_count": 65,
     "metadata": {},
     "output_type": "execute_result"
    }
   ],
   "source": [
    "vars_freq_category"
   ]
  },
  {
   "cell_type": "markdown",
   "metadata": {},
   "source": [
    "##### Aplicamos criterio para tratar data faltante"
   ]
  },
  {
   "cell_type": "code",
   "execution_count": 66,
   "metadata": {},
   "outputs": [],
   "source": [
    "#Faltantes con etiqueta missing\n",
    "X_train[vars_with_missing_string] = X_train[vars_with_missing_string].fillna('Missing')\n",
    "X_test[vars_with_missing_string] = X_test[vars_with_missing_string].fillna('Missing')"
   ]
  },
  {
   "cell_type": "code",
   "execution_count": 67,
   "metadata": {},
   "outputs": [
    {
     "name": "stdout",
     "output_type": "stream",
     "text": [
      "Embarked ------- S\n"
     ]
    }
   ],
   "source": [
    "for var in vars_freq_category:\n",
    "    mode = X_train[var].mode()[0]\n",
    "    \n",
    "    X_train[var].fillna(mode, inplace=True)\n",
    "    X_test[var].fillna(mode, inplace=True)\n",
    "    \n",
    "    print(var, \"-------\", mode)"
   ]
  },
  {
   "cell_type": "code",
   "execution_count": 68,
   "metadata": {},
   "outputs": [
    {
     "data": {
      "text/plain": [
       "Embarked    0.0\n",
       "Cabin       0.0\n",
       "dtype: float64"
      ]
     },
     "execution_count": 68,
     "metadata": {},
     "output_type": "execute_result"
    }
   ],
   "source": [
    "X_train[cat_vars_with_na].isnull().mean().sort_values(ascending = False)"
   ]
  },
  {
   "cell_type": "code",
   "execution_count": 69,
   "metadata": {},
   "outputs": [
    {
     "data": {
      "text/plain": [
       "[]"
      ]
     },
     "execution_count": 69,
     "metadata": {},
     "output_type": "execute_result"
    }
   ],
   "source": [
    "cat_vars_with_na = [var for var in cat_vars \n",
    "                        if X_train[var].isnull().sum() > 0]\n",
    "cat_vars_with_na"
   ]
  },
  {
   "cell_type": "markdown",
   "metadata": {},
   "source": [
    "##### 2.2 Missing Values para Variables Numéricas"
   ]
  },
  {
   "cell_type": "code",
   "execution_count": 70,
   "metadata": {},
   "outputs": [],
   "source": [
    "num_vars = [var for var in X_train.columns\n",
    "               if var not in cat_vars and var != 'Survived']"
   ]
  },
  {
   "cell_type": "code",
   "execution_count": 71,
   "metadata": {},
   "outputs": [
    {
     "data": {
      "text/plain": [
       "6"
      ]
     },
     "execution_count": 71,
     "metadata": {},
     "output_type": "execute_result"
    }
   ],
   "source": [
    "len(num_vars)"
   ]
  },
  {
   "cell_type": "code",
   "execution_count": 72,
   "metadata": {},
   "outputs": [],
   "source": [
    "##Numéricas con faltantes\n",
    "num_vars_with_na = [var for var in num_vars\n",
    "                       if X_train[var].isnull().sum() > 0]\n",
    "\n"
   ]
  },
  {
   "cell_type": "code",
   "execution_count": 73,
   "metadata": {},
   "outputs": [
    {
     "data": {
      "text/plain": [
       "Age    0.200793\n",
       "dtype: float64"
      ]
     },
     "execution_count": 73,
     "metadata": {},
     "output_type": "execute_result"
    }
   ],
   "source": [
    "X_train[num_vars_with_na].isnull().mean()"
   ]
  },
  {
   "cell_type": "markdown",
   "metadata": {},
   "source": [
    "##### Aplicamos criterio para tratar data faltante"
   ]
  },
  {
   "cell_type": "code",
   "execution_count": 74,
   "metadata": {},
   "outputs": [
    {
     "name": "stdout",
     "output_type": "stream",
     "text": [
      "Age 29.51267768595041\n"
     ]
    }
   ],
   "source": [
    "for var in num_vars_with_na:\n",
    "    mean_val = X_train[var].mean()\n",
    "    \n",
    "    print(var, mean_val)\n",
    "    \n",
    "    X_train[var].fillna(mean_val, inplace=True)\n",
    "    X_test[var].fillna(mean_val, inplace=True)\n",
    "    "
   ]
  },
  {
   "cell_type": "code",
   "execution_count": 75,
   "metadata": {},
   "outputs": [
    {
     "data": {
      "text/plain": [
       "Age    0.0\n",
       "dtype: float64"
      ]
     },
     "execution_count": 75,
     "metadata": {},
     "output_type": "execute_result"
    }
   ],
   "source": [
    "X_train[num_vars_with_na].isnull().mean()"
   ]
  },
  {
   "cell_type": "markdown",
   "metadata": {},
   "source": [
    "### 4. Transformación de Variables Numéricas"
   ]
  },
  {
   "cell_type": "code",
   "execution_count": 76,
   "metadata": {},
   "outputs": [],
   "source": [
    "#aplicamos transformación de Yeo-Jonhson\n",
    "X_train['Age'], param = stats.yeojohnson(X_train['Age'])"
   ]
  },
  {
   "cell_type": "code",
   "execution_count": 77,
   "metadata": {},
   "outputs": [],
   "source": [
    "X_test['Age'] = stats.yeojohnson(X_test['Age'], lmbda=param)"
   ]
  },
  {
   "cell_type": "code",
   "execution_count": 78,
   "metadata": {},
   "outputs": [
    {
     "name": "stdout",
     "output_type": "stream",
     "text": [
      "0.810604376712183\n"
     ]
    }
   ],
   "source": [
    "print(param)"
   ]
  },
  {
   "cell_type": "markdown",
   "metadata": {},
   "source": [
    "#### 4.1 Binarización de Variables con Sesgo fuerte"
   ]
  },
  {
   "cell_type": "code",
   "execution_count": 79,
   "metadata": {},
   "outputs": [],
   "source": [
    "sesgadas = ['Fare']"
   ]
  },
  {
   "cell_type": "code",
   "execution_count": 80,
   "metadata": {},
   "outputs": [],
   "source": [
    "for var in sesgadas:\n",
    "    X_train[var] = np.where(X_train[var] == 0, 0, 1)\n",
    "    X_test[var] = np.where(X_test[var] == 0, 0, 1)"
   ]
  },
  {
   "cell_type": "markdown",
   "metadata": {},
   "source": [
    "### 5. Codificación de Variables Categóricas\n",
    "No aplica en este dataset"
   ]
  },
  {
   "cell_type": "markdown",
   "metadata": {},
   "source": [
    "#### 5.1 Codificación de Raras (baja frecuencia)"
   ]
  },
  {
   "cell_type": "code",
   "execution_count": 82,
   "metadata": {},
   "outputs": [
    {
     "data": {
      "text/plain": [
       "['Name', 'Sex', 'Ticket', 'Cabin', 'Embarked']"
      ]
     },
     "execution_count": 82,
     "metadata": {},
     "output_type": "execute_result"
    }
   ],
   "source": [
    "other_cat = [var for var in cat_vars]\n",
    "other_cat"
   ]
  },
  {
   "cell_type": "code",
   "execution_count": 83,
   "metadata": {},
   "outputs": [
    {
     "data": {
      "text/plain": [
       "5"
      ]
     },
     "execution_count": 83,
     "metadata": {},
     "output_type": "execute_result"
    }
   ],
   "source": [
    "len(other_cat)"
   ]
  },
  {
   "cell_type": "code",
   "execution_count": 84,
   "metadata": {},
   "outputs": [],
   "source": [
    "#funcion para encontar etiquetas raras\n",
    "def find_rare_labels_freq(df, var, rare_perc):\n",
    "    temp = df.groupby(var)[var].count()/len(df)\n",
    "    return temp[temp > rare_perc].index"
   ]
  },
  {
   "cell_type": "code",
   "execution_count": 85,
   "metadata": {},
   "outputs": [],
   "source": [
    "for var in other_cat:\n",
    "    freqValue = find_rare_labels_freq(X_train, var, 0.01)\n",
    "    \n",
    "    #print(var, '--------', freqValue)\n",
    "    \n",
    "    X_train[var] = np.where(X_train[var].isin(freqValue), X_train[var], 'Rare')\n",
    "    X_test[var] = np.where(X_test[var].isin(freqValue), X_test[var], 'Rare')"
   ]
  },
  {
   "cell_type": "code",
   "execution_count": 86,
   "metadata": {},
   "outputs": [],
   "source": [
    "def replace_category_vals(train, test, y_train, var, target):\n",
    "    \n",
    "    temp = pd.concat([train, y_train], axis=1) \n",
    "    order_labels = temp.groupby([var])[target].mean().sort_values().index\n",
    "    \n",
    "    ordinal_values = {k: i for i, k in enumerate(order_labels, 0)}\n",
    "    \n",
    "    print(var, ordinal_values)\n",
    "    \n",
    "    train[var] = train[var].map(ordinal_values)\n",
    "    test[var] = test[var].map(ordinal_values)\n",
    "    "
   ]
  },
  {
   "cell_type": "code",
   "execution_count": 87,
   "metadata": {},
   "outputs": [
    {
     "name": "stdout",
     "output_type": "stream",
     "text": [
      "Name {'Rare': 0}\n",
      "Sex {'male': 0, 'female': 1}\n",
      "Ticket {'Rare': 0}\n",
      "Cabin {'Missing': 0, 'Rare': 1}\n",
      "Embarked {'S': 0, 'Q': 1, 'C': 2}\n"
     ]
    }
   ],
   "source": [
    "for var in other_cat:\n",
    "    replace_category_vals(X_train, X_test, y_train, var, 'Survived')"
   ]
  },
  {
   "cell_type": "code",
   "execution_count": 88,
   "metadata": {},
   "outputs": [],
   "source": [
    "def analyse_other_cats(train, y_train, var):\n",
    "    temp = pd.concat([train, y_train], axis=1)\n",
    "\n",
    "    temp.groupby(var)['Survived'].median().plot.bar()\n",
    "    plt.title(var)\n",
    "    plt.ylabel('Survived')\n",
    "    plt.show()"
   ]
  },
  {
   "cell_type": "code",
   "execution_count": 89,
   "metadata": {},
   "outputs": [
    {
     "data": {
      "image/png": "[encoded data removed]",
      "text/plain": [
       "<Figure size 432x288 with 1 Axes>"
      ]
     },
     "metadata": {
      "needs_background": "light"
     },
     "output_type": "display_data"
    },
    {
     "data": {
      "image/png": "[encoded data removed]",
      "text/plain": [
       "<Figure size 432x288 with 1 Axes>"
      ]
     },
     "metadata": {
      "needs_background": "light"
     },
     "output_type": "display_data"
    },
    {
     "data": {
      "image/png": "[encoded data removed]",
      "text/plain": [
       "<Figure size 432x288 with 1 Axes>"
      ]
     },
     "metadata": {
      "needs_background": "light"
     },
     "output_type": "display_data"
    },
    {
     "data": {
      "image/png": "[encoded data removed]",
      "text/plain": [
       "<Figure size 432x288 with 1 Axes>"
      ]
     },
     "metadata": {
      "needs_background": "light"
     },
     "output_type": "display_data"
    },
    {
     "data": {
      "image/png": "[encoded data removed]",
      "text/plain": [
       "<Figure size 432x288 with 1 Axes>"
      ]
     },
     "metadata": {
      "needs_background": "light"
     },
     "output_type": "display_data"
    }
   ],
   "source": [
    "for var in other_cat:\n",
    "    analyse_other_cats(X_train, y_train, var)"
   ]
  },
  {
   "cell_type": "markdown",
   "metadata": {},
   "source": [
    "### 6. Feature Scaling"
   ]
  },
  {
   "cell_type": "code",
   "execution_count": 90,
   "metadata": {},
   "outputs": [],
   "source": [
    "scaler = MinMaxScaler()\n",
    "\n",
    "scaler.fit(X_train)\n",
    "\n",
    "X_train = pd.DataFrame(\n",
    "    scaler.transform(X_train),\n",
    "    columns=X_train.columns\n",
    ")\n",
    "\n",
    "\n",
    "X_test = pd.DataFrame(\n",
    "    scaler.transform(X_test),\n",
    "    columns=X_test.columns\n",
    ")"
   ]
  },
  {
   "cell_type": "code",
   "execution_count": 91,
   "metadata": {},
   "outputs": [
    {
     "data": {
      "text/html": [
       "<div>\n",
       "<style scoped>\n",
       "    .dataframe tbody tr th:only-of-type {\n",
       "        vertical-align: middle;\n",
       "    }\n",
       "\n",
       "    .dataframe tbody tr th {\n",
       "        vertical-align: top;\n",
       "    }\n",
       "\n",
       "    .dataframe thead th {\n",
       "        text-align: right;\n",
       "    }\n",
       "</style>\n",
       "<table border=\"1\" class=\"dataframe\">\n",
       "  <thead>\n",
       "    <tr style=\"text-align: right;\">\n",
       "      <th></th>\n",
       "      <th>PassengerId</th>\n",
       "      <th>Pclass</th>\n",
       "      <th>Name</th>\n",
       "      <th>Sex</th>\n",
       "      <th>Age</th>\n",
       "      <th>SibSp</th>\n",
       "      <th>Parch</th>\n",
       "      <th>Ticket</th>\n",
       "      <th>Fare</th>\n",
       "      <th>Cabin</th>\n",
       "      <th>Embarked</th>\n",
       "    </tr>\n",
       "  </thead>\n",
       "  <tbody>\n",
       "    <tr>\n",
       "      <th>0</th>\n",
       "      <td>0.961798</td>\n",
       "      <td>0.0</td>\n",
       "      <td>0.0</td>\n",
       "      <td>1.0</td>\n",
       "      <td>0.617724</td>\n",
       "      <td>0.125</td>\n",
       "      <td>0.166667</td>\n",
       "      <td>0.0</td>\n",
       "      <td>1.0</td>\n",
       "      <td>0.0</td>\n",
       "      <td>0.0</td>\n",
       "    </tr>\n",
       "    <tr>\n",
       "      <th>1</th>\n",
       "      <td>0.769663</td>\n",
       "      <td>0.5</td>\n",
       "      <td>0.0</td>\n",
       "      <td>0.0</td>\n",
       "      <td>0.374482</td>\n",
       "      <td>0.125</td>\n",
       "      <td>0.333333</td>\n",
       "      <td>0.0</td>\n",
       "      <td>1.0</td>\n",
       "      <td>0.0</td>\n",
       "      <td>1.0</td>\n",
       "    </tr>\n",
       "    <tr>\n",
       "      <th>2</th>\n",
       "      <td>0.106742</td>\n",
       "      <td>1.0</td>\n",
       "      <td>0.0</td>\n",
       "      <td>0.0</td>\n",
       "      <td>0.431785</td>\n",
       "      <td>0.000</td>\n",
       "      <td>0.000000</td>\n",
       "      <td>0.0</td>\n",
       "      <td>1.0</td>\n",
       "      <td>0.0</td>\n",
       "      <td>0.0</td>\n",
       "    </tr>\n",
       "    <tr>\n",
       "      <th>3</th>\n",
       "      <td>0.470787</td>\n",
       "      <td>1.0</td>\n",
       "      <td>0.0</td>\n",
       "      <td>1.0</td>\n",
       "      <td>0.166795</td>\n",
       "      <td>0.000</td>\n",
       "      <td>0.333333</td>\n",
       "      <td>0.0</td>\n",
       "      <td>1.0</td>\n",
       "      <td>0.0</td>\n",
       "      <td>0.0</td>\n",
       "    </tr>\n",
       "    <tr>\n",
       "      <th>4</th>\n",
       "      <td>0.233708</td>\n",
       "      <td>1.0</td>\n",
       "      <td>0.0</td>\n",
       "      <td>1.0</td>\n",
       "      <td>0.253955</td>\n",
       "      <td>0.000</td>\n",
       "      <td>0.000000</td>\n",
       "      <td>0.0</td>\n",
       "      <td>1.0</td>\n",
       "      <td>0.0</td>\n",
       "      <td>0.5</td>\n",
       "    </tr>\n",
       "  </tbody>\n",
       "</table>\n",
       "</div>"
      ],
      "text/plain": [
       "   PassengerId  Pclass  Name  Sex       Age  SibSp     Parch  Ticket  Fare  \\\n",
       "0     0.961798     0.0   0.0  1.0  0.617724  0.125  0.166667     0.0   1.0   \n",
       "1     0.769663     0.5   0.0  0.0  0.374482  0.125  0.333333     0.0   1.0   \n",
       "2     0.106742     1.0   0.0  0.0  0.431785  0.000  0.000000     0.0   1.0   \n",
       "3     0.470787     1.0   0.0  1.0  0.166795  0.000  0.333333     0.0   1.0   \n",
       "4     0.233708     1.0   0.0  1.0  0.253955  0.000  0.000000     0.0   1.0   \n",
       "\n",
       "   Cabin  Embarked  \n",
       "0    0.0       0.0  \n",
       "1    0.0       1.0  \n",
       "2    0.0       0.0  \n",
       "3    0.0       0.0  \n",
       "4    0.0       0.5  "
      ]
     },
     "execution_count": 91,
     "metadata": {},
     "output_type": "execute_result"
    }
   ],
   "source": [
    "X_train.head()"
   ]
  },
  {
   "cell_type": "code",
   "execution_count": 92,
   "metadata": {},
   "outputs": [],
   "source": [
    "#Guardamos dataset con data preparada para entrenamiento.\n",
    "\n",
    "X_train.to_csv('preprocess_data/prep_Xtrain.csv', index=False)\n",
    "X_test.to_csv('preprocess_data/prep_Xtest.csv', index=False)\n",
    "\n",
    "y_train.to_csv('preprocess_data/prep_ytrain.csv', index=False)\n",
    "y_test.to_csv('preprocess_data/prep_ytest.csv', index=False)"
   ]
  },
  {
   "cell_type": "code",
   "execution_count": 93,
   "metadata": {},
   "outputs": [
    {
     "data": {
      "text/plain": [
       "['preprocess_data/minmax_scaler.joblib']"
      ]
     },
     "execution_count": 93,
     "metadata": {},
     "output_type": "execute_result"
    }
   ],
   "source": [
    "joblib.dump(scaler, 'preprocess_data/minmax_scaler.joblib')"
   ]
  },
  {
   "cell_type": "code",
   "execution_count": 94,
   "metadata": {},
   "outputs": [
    {
     "data": {
      "text/plain": [
       "0.0"
      ]
     },
     "execution_count": 94,
     "metadata": {},
     "output_type": "execute_result"
    }
   ],
   "source": [
    "np.sum(X_train[X_train == 'Unf'].sum(axis=0))"
   ]
  },
  {
   "cell_type": "code",
   "execution_count": 179,
   "metadata": {},
   "outputs": [],
   "source": [
    "import pandas as pd\n",
    "import numpy as np\n",
    "\n",
    "import matplotlib.pyplot as plt\n",
    "\n",
    "from sklearn.linear_model import Lasso\n",
    "from sklearn.feature_selection import SelectFromModel"
   ]
  },
  {
   "cell_type": "markdown",
   "metadata": {},
   "source": [
    "### 3. Selección de Variables"
   ]
  },
  {
   "cell_type": "code",
   "execution_count": 180,
   "metadata": {},
   "outputs": [],
   "source": [
    "X_train = pd.read_csv(\"preprocess_data/prep_Xtrain.csv\")\n",
    "X_test = pd.read_csv(\"preprocess_data/prep_Xtest.csv\")"
   ]
  },
  {
   "cell_type": "code",
   "execution_count": 181,
   "metadata": {},
   "outputs": [
    {
     "data": {
      "text/html": [
       "<div>\n",
       "<style scoped>\n",
       "    .dataframe tbody tr th:only-of-type {\n",
       "        vertical-align: middle;\n",
       "    }\n",
       "\n",
       "    .dataframe tbody tr th {\n",
       "        vertical-align: top;\n",
       "    }\n",
       "\n",
       "    .dataframe thead th {\n",
       "        text-align: right;\n",
       "    }\n",
       "</style>\n",
       "<table border=\"1\" class=\"dataframe\">\n",
       "  <thead>\n",
       "    <tr style=\"text-align: right;\">\n",
       "      <th></th>\n",
       "      <th>PassengerId</th>\n",
       "      <th>Pclass</th>\n",
       "      <th>Name</th>\n",
       "      <th>Sex</th>\n",
       "      <th>Age</th>\n",
       "      <th>SibSp</th>\n",
       "      <th>Parch</th>\n",
       "      <th>Ticket</th>\n",
       "      <th>Fare</th>\n",
       "      <th>Cabin</th>\n",
       "      <th>Embarked</th>\n",
       "    </tr>\n",
       "  </thead>\n",
       "  <tbody>\n",
       "    <tr>\n",
       "      <th>0</th>\n",
       "      <td>0.961798</td>\n",
       "      <td>0.0</td>\n",
       "      <td>0.0</td>\n",
       "      <td>1.0</td>\n",
       "      <td>0.617724</td>\n",
       "      <td>0.125</td>\n",
       "      <td>0.166667</td>\n",
       "      <td>0.0</td>\n",
       "      <td>1.0</td>\n",
       "      <td>0.0</td>\n",
       "      <td>0.0</td>\n",
       "    </tr>\n",
       "    <tr>\n",
       "      <th>1</th>\n",
       "      <td>0.769663</td>\n",
       "      <td>0.5</td>\n",
       "      <td>0.0</td>\n",
       "      <td>0.0</td>\n",
       "      <td>0.374482</td>\n",
       "      <td>0.125</td>\n",
       "      <td>0.333333</td>\n",
       "      <td>0.0</td>\n",
       "      <td>1.0</td>\n",
       "      <td>0.0</td>\n",
       "      <td>1.0</td>\n",
       "    </tr>\n",
       "    <tr>\n",
       "      <th>2</th>\n",
       "      <td>0.106742</td>\n",
       "      <td>1.0</td>\n",
       "      <td>0.0</td>\n",
       "      <td>0.0</td>\n",
       "      <td>0.431785</td>\n",
       "      <td>0.000</td>\n",
       "      <td>0.000000</td>\n",
       "      <td>0.0</td>\n",
       "      <td>1.0</td>\n",
       "      <td>0.0</td>\n",
       "      <td>0.0</td>\n",
       "    </tr>\n",
       "    <tr>\n",
       "      <th>3</th>\n",
       "      <td>0.470787</td>\n",
       "      <td>1.0</td>\n",
       "      <td>0.0</td>\n",
       "      <td>1.0</td>\n",
       "      <td>0.166795</td>\n",
       "      <td>0.000</td>\n",
       "      <td>0.333333</td>\n",
       "      <td>0.0</td>\n",
       "      <td>1.0</td>\n",
       "      <td>0.0</td>\n",
       "      <td>0.0</td>\n",
       "    </tr>\n",
       "    <tr>\n",
       "      <th>4</th>\n",
       "      <td>0.233708</td>\n",
       "      <td>1.0</td>\n",
       "      <td>0.0</td>\n",
       "      <td>1.0</td>\n",
       "      <td>0.253955</td>\n",
       "      <td>0.000</td>\n",
       "      <td>0.000000</td>\n",
       "      <td>0.0</td>\n",
       "      <td>1.0</td>\n",
       "      <td>0.0</td>\n",
       "      <td>0.5</td>\n",
       "    </tr>\n",
       "  </tbody>\n",
       "</table>\n",
       "</div>"
      ],
      "text/plain": [
       "   PassengerId  Pclass  Name  Sex       Age  SibSp     Parch  Ticket  Fare  \\\n",
       "0     0.961798     0.0   0.0  1.0  0.617724  0.125  0.166667     0.0   1.0   \n",
       "1     0.769663     0.5   0.0  0.0  0.374482  0.125  0.333333     0.0   1.0   \n",
       "2     0.106742     1.0   0.0  0.0  0.431785  0.000  0.000000     0.0   1.0   \n",
       "3     0.470787     1.0   0.0  1.0  0.166795  0.000  0.333333     0.0   1.0   \n",
       "4     0.233708     1.0   0.0  1.0  0.253955  0.000  0.000000     0.0   1.0   \n",
       "\n",
       "   Cabin  Embarked  \n",
       "0    0.0       0.0  \n",
       "1    0.0       1.0  \n",
       "2    0.0       0.0  \n",
       "3    0.0       0.0  \n",
       "4    0.0       0.5  "
      ]
     },
     "execution_count": 181,
     "metadata": {},
     "output_type": "execute_result"
    }
   ],
   "source": [
    "X_train.head()"
   ]
  },
  {
   "cell_type": "code",
   "execution_count": 182,
   "metadata": {},
   "outputs": [
    {
     "data": {
      "text/html": [
       "<div>\n",
       "<style scoped>\n",
       "    .dataframe tbody tr th:only-of-type {\n",
       "        vertical-align: middle;\n",
       "    }\n",
       "\n",
       "    .dataframe tbody tr th {\n",
       "        vertical-align: top;\n",
       "    }\n",
       "\n",
       "    .dataframe thead th {\n",
       "        text-align: right;\n",
       "    }\n",
       "</style>\n",
       "<table border=\"1\" class=\"dataframe\">\n",
       "  <thead>\n",
       "    <tr style=\"text-align: right;\">\n",
       "      <th></th>\n",
       "      <th>Survived</th>\n",
       "    </tr>\n",
       "  </thead>\n",
       "  <tbody>\n",
       "    <tr>\n",
       "      <th>0</th>\n",
       "      <td>1</td>\n",
       "    </tr>\n",
       "    <tr>\n",
       "      <th>1</th>\n",
       "      <td>0</td>\n",
       "    </tr>\n",
       "    <tr>\n",
       "      <th>2</th>\n",
       "      <td>0</td>\n",
       "    </tr>\n",
       "    <tr>\n",
       "      <th>3</th>\n",
       "      <td>0</td>\n",
       "    </tr>\n",
       "    <tr>\n",
       "      <th>4</th>\n",
       "      <td>1</td>\n",
       "    </tr>\n",
       "  </tbody>\n",
       "</table>\n",
       "</div>"
      ],
      "text/plain": [
       "   Survived\n",
       "0         1\n",
       "1         0\n",
       "2         0\n",
       "3         0\n",
       "4         1"
      ]
     },
     "execution_count": 182,
     "metadata": {},
     "output_type": "execute_result"
    }
   ],
   "source": [
    "y_train = pd.read_csv(\"preprocess_data/prep_ytrain.csv\")\n",
    "y_test = pd.read_csv(\"preprocess_data/prep_ytest.csv\")\n",
    "\n",
    "y_train.head()"
   ]
  },
  {
   "cell_type": "code",
   "execution_count": 183,
   "metadata": {},
   "outputs": [
    {
     "data": {
      "text/plain": [
       "SelectFromModel(estimator=Lasso(alpha=0.001, random_state=0))"
      ]
     },
     "execution_count": 183,
     "metadata": {},
     "output_type": "execute_result"
    }
   ],
   "source": [
    "#objeto selector de variables\n",
    "sel_ = SelectFromModel(Lasso(alpha=0.001, random_state=0))\n",
    "\n",
    "sel_.fit(X_train, y_train)"
   ]
  },
  {
   "cell_type": "code",
   "execution_count": 184,
   "metadata": {},
   "outputs": [
    {
     "data": {
      "text/plain": [
       "9"
      ]
     },
     "execution_count": 184,
     "metadata": {},
     "output_type": "execute_result"
    }
   ],
   "source": [
    "sel_.get_support().sum()"
   ]
  },
  {
   "cell_type": "code",
   "execution_count": 185,
   "metadata": {},
   "outputs": [
    {
     "data": {
      "text/plain": [
       "array([ True,  True, False,  True,  True,  True,  True, False,  True,\n",
       "        True,  True])"
      ]
     },
     "execution_count": 185,
     "metadata": {},
     "output_type": "execute_result"
    }
   ],
   "source": [
    "sel_.get_support()"
   ]
  },
  {
   "cell_type": "code",
   "execution_count": 186,
   "metadata": {},
   "outputs": [],
   "source": [
    "selected_features = X_train.columns[(sel_.get_support())]"
   ]
  },
  {
   "cell_type": "code",
   "execution_count": 187,
   "metadata": {},
   "outputs": [
    {
     "data": {
      "text/plain": [
       "Index(['PassengerId', 'Pclass', 'Sex', 'Age', 'SibSp', 'Parch', 'Fare',\n",
       "       'Cabin', 'Embarked'],\n",
       "      dtype='object')"
      ]
     },
     "execution_count": 187,
     "metadata": {},
     "output_type": "execute_result"
    }
   ],
   "source": [
    "selected_features"
   ]
  },
  {
   "cell_type": "code",
   "execution_count": 188,
   "metadata": {},
   "outputs": [],
   "source": [
    "pd.Series(selected_features).to_csv('preprocess_data/selected_features.csv', index=False)"
   ]
  },
  {
   "cell_type": "markdown",
   "metadata": {},
   "source": [
    "### 4. Entrenamiento del Modelo"
   ]
  },
  {
   "cell_type": "code",
   "execution_count": 189,
   "metadata": {},
   "outputs": [],
   "source": [
    "X_train = X_train[selected_features]\n",
    "X_test = X_test[selected_features]"
   ]
  },
  {
   "cell_type": "code",
   "execution_count": 190,
   "metadata": {},
   "outputs": [
    {
     "data": {
      "text/plain": [
       "Lasso(alpha=0.001, random_state=2022)"
      ]
     },
     "execution_count": 190,
     "metadata": {},
     "output_type": "execute_result"
    }
   ],
   "source": [
    "linear_model = Lasso(alpha=0.001, random_state=2022)\n",
    "\n",
    "linear_model.fit(X_train, y_train)"
   ]
  },
  {
   "cell_type": "markdown",
   "metadata": {},
   "source": [
    "#### Predicciones"
   ]
  },
  {
   "cell_type": "code",
   "execution_count": 191,
   "metadata": {},
   "outputs": [],
   "source": [
    "from sklearn.metrics import mean_squared_error, r2_score"
   ]
  },
  {
   "cell_type": "code",
   "execution_count": 192,
   "metadata": {},
   "outputs": [],
   "source": [
    "preds_train = linear_model.predict(X_train)"
   ]
  },
  {
   "cell_type": "code",
   "execution_count": 193,
   "metadata": {},
   "outputs": [
    {
     "name": "stdout",
     "output_type": "stream",
     "text": [
      "MSE de Entrenamiento: 0.40670334078767895\n",
      "RMSE de Entrenamiento: 0.6377329698139175\n",
      "R2 de Entrenamiento: 0.4171378877314772\n"
     ]
    }
   ],
   "source": [
    "#Resultados del Train\n",
    "print(\"MSE de Entrenamiento: {}\".format(mean_squared_error(np.exp(y_train), np.exp(preds_train))))\n",
    "\n",
    "print(\"RMSE de Entrenamiento: {}\".format(mean_squared_error(np.exp(y_train), \n",
    "                                                           np.exp(preds_train), squared=False)))\n",
    "\n",
    "print(\"R2 de Entrenamiento: {}\".format(r2_score(np.exp(y_train), np.exp(preds_train))))"
   ]
  },
  {
   "cell_type": "code",
   "execution_count": 194,
   "metadata": {},
   "outputs": [],
   "source": [
    "preds_test = linear_model.predict(X_test)"
   ]
  },
  {
   "cell_type": "code",
   "execution_count": 195,
   "metadata": {},
   "outputs": [
    {
     "name": "stdout",
     "output_type": "stream",
     "text": [
      "MSE de Entrenamiento: 0.5759175570439363\n",
      "RMSE de Entrenamiento: 0.7588923224304858\n",
      "R2 de Entrenamiento: 0.1785825502989511\n"
     ]
    }
   ],
   "source": [
    "#Resultados del Test\n",
    "print(\"MSE de Entrenamiento: {}\".format(mean_squared_error(np.exp(y_test), np.exp(preds_test))))\n",
    "\n",
    "print(\"RMSE de Entrenamiento: {}\".format(mean_squared_error(np.exp(y_test), \n",
    "                                                           np.exp(preds_test), squared=False)))\n",
    "\n",
    "print(\"R2 de Entrenamiento: {}\".format(r2_score(np.exp(y_test), np.exp(preds_test))))"
   ]
  },
  {
   "cell_type": "code",
   "execution_count": 196,
   "metadata": {},
   "outputs": [
    {
     "data": {
      "image/png": "[encoded data removed]",
      "text/plain": [
       "<Figure size 432x288 with 1 Axes>"
      ]
     },
     "metadata": {
      "needs_background": "light"
     },
     "output_type": "display_data"
    }
   ],
   "source": [
    "plt.scatter(y_test, preds_test)\n",
    "plt.xlabel(\"Survived\")\n",
    "plt.ylabel(\"Predicted Survived\")\n",
    "plt.title(\"Lasso Modelo\")\n",
    "plt.show()"
   ]
  },
  {
   "cell_type": "code",
   "execution_count": 197,
   "metadata": {},
   "outputs": [],
   "source": [
    "importance = pd.Series(np.abs(linear_model.coef_.ravel()))\n",
    "importance.index = selected_features\n",
    "importance.sort_values(inplace=True, ascending=False)"
   ]
  },
  {
   "cell_type": "code",
   "execution_count": 198,
   "metadata": {},
   "outputs": [
    {
     "data": {
      "image/png": "[encoded data removed]",
      "text/plain": [
       "<Figure size 1296x432 with 1 Axes>"
      ]
     },
     "metadata": {
      "needs_background": "light"
     },
     "output_type": "display_data"
    }
   ],
   "source": [
    "importance.plot.bar(figsize=(18, 6))\n",
    "plt.ylabel(\"Coeficiente de Lasso\")\n",
    "plt.xlabel(\"Nombre de la Variable\")\n",
    "plt.show()"
   ]
  },
  {
   "cell_type": "code",
   "execution_count": 199,
   "metadata": {},
   "outputs": [],
   "source": [
    "import joblib"
   ]
  },
  {
   "cell_type": "code",
   "execution_count": 200,
   "metadata": {},
   "outputs": [
    {
     "data": {
      "text/plain": [
       "['final_model/titanic_model.joblib']"
      ]
     },
     "execution_count": 200,
     "metadata": {},
     "output_type": "execute_result"
    }
   ],
   "source": [
    "joblib.dump(linear_model, 'final_model/titanic_model.joblib')"
   ]
  },
  {
   "cell_type": "code",
   "execution_count": 201,
   "metadata": {},
   "outputs": [],
   "source": [
    "import pandas as pd\n",
    "import numpy as np\n",
    "\n",
    "import matplotlib.pyplot as plt\n",
    "\n",
    "from sklearn.linear_model import Lasso\n",
    "from sklearn.feature_selection import SelectFromModel\n",
    "from sklearn.metrics import mean_squared_error, r2_score\n",
    "from sklearn.model_selection import train_test_split\n",
    "from sklearn.preprocessing import MinMaxScaler, Binarizer\n",
    "\n",
    "from sklearn.pipeline import Pipeline\n",
    "\n",
    "from feature_engine.imputation import(\n",
    "    AddMissingIndicator,\n",
    "    MeanMedianImputer,\n",
    "    CategoricalImputer\n",
    ")\n",
    "\n",
    "from feature_engine.encoding import (\n",
    "    RareLabelEncoder,\n",
    "    OrdinalEncoder\n",
    ")\n",
    "\n",
    "from feature_engine.transformation import LogTransformer\n",
    "\n",
    "from feature_engine.selection import DropFeatures\n",
    "from feature_engine.wrappers import SklearnTransformerWrapper\n",
    "\n",
    "import joblib"
   ]
  },
  {
   "cell_type": "code",
   "execution_count": 202,
   "metadata": {},
   "outputs": [
    {
     "data": {
      "text/html": [
       "<div>\n",
       "<style scoped>\n",
       "    .dataframe tbody tr th:only-of-type {\n",
       "        vertical-align: middle;\n",
       "    }\n",
       "\n",
       "    .dataframe tbody tr th {\n",
       "        vertical-align: top;\n",
       "    }\n",
       "\n",
       "    .dataframe thead th {\n",
       "        text-align: right;\n",
       "    }\n",
       "</style>\n",
       "<table border=\"1\" class=\"dataframe\">\n",
       "  <thead>\n",
       "    <tr style=\"text-align: right;\">\n",
       "      <th></th>\n",
       "      <th>PassengerId</th>\n",
       "      <th>Survived</th>\n",
       "      <th>Pclass</th>\n",
       "      <th>Name</th>\n",
       "      <th>Sex</th>\n",
       "      <th>Age</th>\n",
       "      <th>SibSp</th>\n",
       "      <th>Parch</th>\n",
       "      <th>Ticket</th>\n",
       "      <th>Fare</th>\n",
       "      <th>Cabin</th>\n",
       "      <th>Embarked</th>\n",
       "    </tr>\n",
       "  </thead>\n",
       "  <tbody>\n",
       "    <tr>\n",
       "      <th>0</th>\n",
       "      <td>1</td>\n",
       "      <td>0</td>\n",
       "      <td>3</td>\n",
       "      <td>Braund, Mr. Owen Harris</td>\n",
       "      <td>male</td>\n",
       "      <td>22.0</td>\n",
       "      <td>1</td>\n",
       "      <td>0</td>\n",
       "      <td>A/5 21171</td>\n",
       "      <td>7.2500</td>\n",
       "      <td>NaN</td>\n",
       "      <td>S</td>\n",
       "    </tr>\n",
       "    <tr>\n",
       "      <th>1</th>\n",
       "      <td>2</td>\n",
       "      <td>1</td>\n",
       "      <td>1</td>\n",
       "      <td>Cumings, Mrs. John Bradley (Florence Briggs Th...</td>\n",
       "      <td>female</td>\n",
       "      <td>38.0</td>\n",
       "      <td>1</td>\n",
       "      <td>0</td>\n",
       "      <td>PC 17599</td>\n",
       "      <td>71.2833</td>\n",
       "      <td>C85</td>\n",
       "      <td>C</td>\n",
       "    </tr>\n",
       "    <tr>\n",
       "      <th>2</th>\n",
       "      <td>3</td>\n",
       "      <td>1</td>\n",
       "      <td>3</td>\n",
       "      <td>Heikkinen, Miss. Laina</td>\n",
       "      <td>female</td>\n",
       "      <td>26.0</td>\n",
       "      <td>0</td>\n",
       "      <td>0</td>\n",
       "      <td>STON/O2. 3101282</td>\n",
       "      <td>7.9250</td>\n",
       "      <td>NaN</td>\n",
       "      <td>S</td>\n",
       "    </tr>\n",
       "    <tr>\n",
       "      <th>3</th>\n",
       "      <td>4</td>\n",
       "      <td>1</td>\n",
       "      <td>1</td>\n",
       "      <td>Futrelle, Mrs. Jacques Heath (Lily May Peel)</td>\n",
       "      <td>female</td>\n",
       "      <td>35.0</td>\n",
       "      <td>1</td>\n",
       "      <td>0</td>\n",
       "      <td>113803</td>\n",
       "      <td>53.1000</td>\n",
       "      <td>C123</td>\n",
       "      <td>S</td>\n",
       "    </tr>\n",
       "    <tr>\n",
       "      <th>4</th>\n",
       "      <td>5</td>\n",
       "      <td>0</td>\n",
       "      <td>3</td>\n",
       "      <td>Allen, Mr. William Henry</td>\n",
       "      <td>male</td>\n",
       "      <td>35.0</td>\n",
       "      <td>0</td>\n",
       "      <td>0</td>\n",
       "      <td>373450</td>\n",
       "      <td>8.0500</td>\n",
       "      <td>NaN</td>\n",
       "      <td>S</td>\n",
       "    </tr>\n",
       "  </tbody>\n",
       "</table>\n",
       "</div>"
      ],
      "text/plain": [
       "   PassengerId  Survived  Pclass  \\\n",
       "0            1         0       3   \n",
       "1            2         1       1   \n",
       "2            3         1       3   \n",
       "3            4         1       1   \n",
       "4            5         0       3   \n",
       "\n",
       "                                                Name     Sex   Age  SibSp  \\\n",
       "0                            Braund, Mr. Owen Harris    male  22.0      1   \n",
       "1  Cumings, Mrs. John Bradley (Florence Briggs Th...  female  38.0      1   \n",
       "2                             Heikkinen, Miss. Laina  female  26.0      0   \n",
       "3       Futrelle, Mrs. Jacques Heath (Lily May Peel)  female  35.0      1   \n",
       "4                           Allen, Mr. William Henry    male  35.0      0   \n",
       "\n",
       "   Parch            Ticket     Fare Cabin Embarked  \n",
       "0      0         A/5 21171   7.2500   NaN        S  \n",
       "1      0          PC 17599  71.2833   C85        C  \n",
       "2      0  STON/O2. 3101282   7.9250   NaN        S  \n",
       "3      0            113803  53.1000  C123        S  \n",
       "4      0            373450   8.0500   NaN        S  "
      ]
     },
     "execution_count": 202,
     "metadata": {},
     "output_type": "execute_result"
    }
   ],
   "source": [
    "data = pd.read_csv(\"train.csv\")\n",
    "data.head()"
   ]
  },
  {
   "cell_type": "code",
   "execution_count": 203,
   "metadata": {},
   "outputs": [
    {
     "data": {
      "text/plain": [
       "((801, 11), (90, 11))"
      ]
     },
     "execution_count": 203,
     "metadata": {},
     "output_type": "execute_result"
    }
   ],
   "source": [
    "X_train, X_test, y_train, y_test = train_test_split(\n",
    "        data.drop(['Survived'], axis=1),\n",
    "        data['Survived'],\n",
    "        test_size=0.1,\n",
    "        random_state=2022)\n",
    "\n",
    "X_train.shape, X_test.shape"
   ]
  },
  {
   "cell_type": "markdown",
   "metadata": {},
   "source": [
    "## Configuración del Machine Learning Pipeline"
   ]
  },
  {
   "cell_type": "code",
   "execution_count": 204,
   "metadata": {},
   "outputs": [],
   "source": [
    "#Variables categoricas con NA\n",
    "CATEGORICAL_VARS_WITH_NA_FREQUENT = []\n",
    "\n",
    "#Variable categoricas con NA pero indicador de Missing\n",
    "CATEGORICAL_VARS_WITH_NA_MISSING = []\n",
    "\n",
    "\n",
    "#Variables numéricas con NA\n",
    "NUMERICAL_VARS_WITH_NA = ['Age']\n",
    "\n",
    "\n",
    "#Variables para binarización por sesgo fuerte\n",
    "BINARIZE_VARS = ['Fare']\n",
    "\n",
    "#Variables categoricas a codificar sin ordinalidad\n",
    "CATEGORICAL_VARS = ['Sex', 'Ticket']\n",
    "\n",
    "#Variables seleccionadas según análisis de Lasso\n",
    "FEATURES = [\n",
    "    'PassengerId',  \n",
    "    'Pclass',\n",
    "    'Sex',  \n",
    "    'Age', \n",
    "    'SibSp', \n",
    "    'Parch', \n",
    "    'Ticket', \n",
    "    'Fare',\n",
    "]"
   ]
  },
  {
   "cell_type": "code",
   "execution_count": 205,
   "metadata": {},
   "outputs": [],
   "source": [
    "#Selección de variables para entrenamiento\n",
    "X_train = X_train[FEATURES]"
   ]
  },
  {
   "cell_type": "code",
   "execution_count": 206,
   "metadata": {},
   "outputs": [],
   "source": [
    "#Seleccionamos variables para predicción\n",
    "X_test = X_test[FEATURES]"
   ]
  },
  {
   "cell_type": "markdown",
   "metadata": {},
   "source": [
    "## Machine Learning PipeLine"
   ]
  },
  {
   "cell_type": "code",
   "execution_count": 207,
   "metadata": {},
   "outputs": [],
   "source": [
    "Titanic_pipeline = Pipeline([\n",
    "    \n",
    "    #============= IMPUTACIONES ===================#\n",
    "    \n",
    "    #1. Imputación de varaibles categoricas\n",
    "    ('missing_imputation', \n",
    "         CategoricalImputer(imputation_method='missing', variables=CATEGORICAL_VARS_WITH_NA_MISSING)\n",
    "    ),\n",
    "    \n",
    "    #2. Imputación de variables categoricas con NA basado en frequiencia.\n",
    "    ('frequent_imputation', \n",
    "         CategoricalImputer(imputation_method='frequent', variables=CATEGORICAL_VARS_WITH_NA_FREQUENT)\n",
    "    ),\n",
    "    \n",
    "    #3. Indicamos Faltante en variables numéricas para imputar\n",
    "    ('missing_indicator', AddMissingIndicator(variables=NUMERICAL_VARS_WITH_NA)),\n",
    "    \n",
    "    #4. Imputación de mediana para variables categoricas\n",
    "    ('mean_imputation', MeanMedianImputer(\n",
    "        imputation_method='mean', variables=NUMERICAL_VARS_WITH_NA)\n",
    "    ),\n",
    "   \n",
    "    #8. Binarización de Variables con Sesgo Fuerte\n",
    "    ('binarizer', SklearnTransformerWrapper(\n",
    "        transformer=Binarizer(threshold=0), variables=BINARIZE_VARS)\n",
    "    ),\n",
    "    \n",
    "    #============ CODIFICACION DE VARIABLES CATEGORICAS NOMINALES ============\n",
    "    \n",
    "    ('rare_label_encoder', RareLabelEncoder(\n",
    "        tol=0.01, n_categories=1, variables=CATEGORICAL_VARS)),\n",
    "    \n",
    "    ('categorical_encoder', OrdinalEncoder(\n",
    "        encoding_method='ordered', variables=CATEGORICAL_VARS)),\n",
    "    \n",
    "    #=========== SCALER ==============\n",
    "    ('scaler', MinMaxScaler()),\n",
    "    \n",
    "    #=========== ENTRENAMIENTO DEL MODELO ============\n",
    "    ('Lasso', Lasso(alpha=0.01, random_state=2022)),\n",
    "]) "
   ]
  },
  {
   "cell_type": "code",
   "execution_count": 208,
   "metadata": {},
   "outputs": [
    {
     "data": {
      "text/plain": [
       "Pipeline(steps=[('missing_imputation', CategoricalImputer(variables=[])),\n",
       "                ('frequent_imputation',\n",
       "                 CategoricalImputer(imputation_method='frequent',\n",
       "                                    variables=[])),\n",
       "                ('missing_indicator', AddMissingIndicator(variables=['Age'])),\n",
       "                ('mean_imputation',\n",
       "                 MeanMedianImputer(imputation_method='mean',\n",
       "                                   variables=['Age'])),\n",
       "                ('binarizer',\n",
       "                 SklearnTransformerWrapper(transformer=Binarizer(threshold=0),\n",
       "                                           variables=['Fare'])),\n",
       "                ('rare_label_encoder',\n",
       "                 RareLabelEncoder(n_categories=1, tol=0.01,\n",
       "                                  variables=['Sex', 'Ticket'])),\n",
       "                ('categorical_encoder',\n",
       "                 OrdinalEncoder(variables=['Sex', 'Ticket'])),\n",
       "                ('scaler', MinMaxScaler()),\n",
       "                ('Lasso', Lasso(alpha=0.01, random_state=2022))])"
      ]
     },
     "execution_count": 208,
     "metadata": {},
     "output_type": "execute_result"
    }
   ],
   "source": [
    "Titanic_pipeline.fit(X_train, y_train)"
   ]
  },
  {
   "cell_type": "code",
   "execution_count": 209,
   "metadata": {},
   "outputs": [],
   "source": [
    "preds = Titanic_pipeline.predict(X_test)"
   ]
  },
  {
   "cell_type": "code",
   "execution_count": 210,
   "metadata": {},
   "outputs": [],
   "source": [
    "from sklearn.metrics import mean_squared_error "
   ]
  },
  {
   "cell_type": "code",
   "execution_count": 211,
   "metadata": {},
   "outputs": [
    {
     "data": {
      "text/plain": [
       "0.577799083793835"
      ]
     },
     "execution_count": 211,
     "metadata": {},
     "output_type": "execute_result"
    }
   ],
   "source": [
    "mean_squared_error(np.exp(y_test), np.exp(preds), squared=False)"
   ]
  },
  {
   "cell_type": "code",
   "execution_count": 212,
   "metadata": {},
   "outputs": [
    {
     "data": {
      "text/plain": [
       "['Titanic_pipeline.pkl']"
      ]
     },
     "execution_count": 212,
     "metadata": {},
     "output_type": "execute_result"
    }
   ],
   "source": [
    "#Guardamos pipeline\n",
    "joblib.dump(Titanic_pipeline, 'Titanic_pipeline.pkl')"
   ]
  }
 ],
 "metadata": {
  "kernelspec": {
   "display_name": "Python 3",
   "language": "python",
   "name": "python3"
  },
  "language_info": {
   "codemirror_mode": {
    "name": "ipython",
    "version": 3
   },
   "file_extension": ".py",
   "mimetype": "text/x-python",
   "name": "python",
   "nbconvert_exporter": "python",
   "pygments_lexer": "ipython3",
   "version": "3.8.5"
  }
 },
 "nbformat": 4,
 "nbformat_minor": 4
}
